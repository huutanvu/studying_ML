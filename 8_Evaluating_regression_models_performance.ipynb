{
 "cells": [
  {
   "cell_type": "code",
   "execution_count": 1,
   "metadata": {
    "collapsed": true
   },
   "outputs": [],
   "source": [
    "import os, sys\n",
    "\n",
    "sys.path.append(os.path.abspath(\"Datasets\"))\n",
    "sys.path.append(os.path.abspath(\"Images\"))"
   ]
  },
  {
   "cell_type": "markdown",
   "metadata": {},
   "source": [
    "### R- Squared\n",
    "<img src=\"Images/2_2_Ordinary_Least_Squares.JPG\" height=\"300\" width=\"450\">\n",
    "- We call Sum of squared residual:\n",
    "$$SS_{res} = \\sum{(y_i - \\hat{y_i})}^2$$\n",
    "<img src=\"Images/3_11_y_avg.JPG\" height=\"300\" width=\"450\">\n",
    "- And:\n",
    "$$SS_{tot} = \\sum{(y_i - y_{avg})}^2$$\n",
    "\n",
    "#### R - Squared:\n",
    "$$R^2 = 1 - \\frac{SS_{res}}{SS_{tot} }$$\n",
    "- $R^2$: how good your model is comparing to the average line that anyone can think of\n",
    "- So we want to maximize the $R^2$, or we minimize the residual error $SS_{res}$\n",
    "- Maximum: $R^2 = 1$ or $SS_{res}=0$"
   ]
  },
  {
   "cell_type": "markdown",
   "metadata": {},
   "source": [
    "### Adjusted R - Squared\n",
    "<img src=\"Images/3_12_r_square_problem.JPG\" height=\"300\" width=\"450\">\n",
    "- The closer $R^2$ to 1, the better the model\n",
    "- **Problem**: At first we only have 2 variables in the model $x_1$ and $x_2$, what if we add a third variable $x_3$? We can add variables that we think it will impact the model, it means we can fit the model better. We will calculate $R^2$ to see if it changes. Good thing is $R^2$ will never decrease. So the new added variable will affect the residual error $SS_{res}$, we want the new variable will help to minimize the residual (find a coefficient that helps). If you cannot reduce $SS_{res}$, it just make the model more complex, so just throw it out (set $b_3$ to 0). However, it cannot be exactly 0, because it has a random correllation. So, if we add a new variable, it will surely increase $R^2$, so we cannot know if the added variable helps or not\n",
    "\n",
    "$=>$ We need a new $R^2$\n",
    "\n",
    "#### Adjusted R-Squared\n",
    "$$R^2_{adj} = 1 - (1 - R^2)\\frac{n - 1}{n - p - 1}$$\n",
    "- Where:\n",
    "    - p : number of regressors\n",
    "    - n : sample size\n",
    "    \n",
    "- Interpretation: when p increases, number of independent variables increases, it makes the ratio increases, so 1 - Ratio will decrease. When $R^2$ increases, it makes the ratio decreases. So, it's a trade-off. We add variable, if $R^2_{adj}$ increases, it's good to add, otherwise, remove it. "
   ]
  },
  {
   "cell_type": "markdown",
   "metadata": {},
   "source": [
    " ### Evaluating Regression Models Performance\n",
    " <img src=\"Images/3_13_performance.JPG\" >\n",
    "- The figure is created using backward elimination\n",
    "- In figure 3, we see that the P value Marketing.spend is 0.06, just a bit larger than SL= 0.05, so we maybe should keep it\n",
    "- So, is there a way that we can decide to keep the variable or not?\n",
    "- We see the result of the adjusted R-squared\n",
    "- $R^2$ alone is bias, we see that, we remove the variable, the $R^2$ always decreases. However, adjusted $R^2$ is different. From 3 -> 4, $R^2_{adj}$ decreases.\n",
    "\n",
    "### Interpreting Linear Regression Coefficients\n",
    "- How to understand coefficients?\n",
    "- Look at the figure 3 above:\n",
    " <img src=\"Images/3_13_performance_3.JPG\" >\n",
    "- The model is to predict Profit, using R.D.Spend + Marketing.Spend. \n",
    "- First thing to notice is that if the value of the coefficients ($b_i$) in the Estimate column is Positive, it means, that coefficient is correlated to the Profit. If we change the value of the independent variable, the dependent variable's value will also change in the same direction.\n",
    "- Magnitude: if the magnitude is high, it will have bigger impact on the model. However, we have to include the unit to the magnitude to see the impact. The value only cannot say which independent variable has higher impact, for example, dollard and cent give different values. "
   ]
  },
  {
   "cell_type": "code",
   "execution_count": null,
   "metadata": {
    "collapsed": true
   },
   "outputs": [],
   "source": []
  }
 ],
 "metadata": {
  "kernelspec": {
   "display_name": "Python [Root]",
   "language": "python",
   "name": "Python [Root]"
  },
  "language_info": {
   "codemirror_mode": {
    "name": "ipython",
    "version": 2
   },
   "file_extension": ".py",
   "mimetype": "text/x-python",
   "name": "python",
   "nbconvert_exporter": "python",
   "pygments_lexer": "ipython2",
   "version": "2.7.12"
  }
 },
 "nbformat": 4,
 "nbformat_minor": 0
}
