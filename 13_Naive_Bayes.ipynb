{
 "cells": [
  {
   "cell_type": "code",
   "execution_count": 1,
   "metadata": {
    "collapsed": true
   },
   "outputs": [],
   "source": [
    "import os, sys\n",
    "\n",
    "sys.path.append(os.path.abspath(\"Datasets\"))\n",
    "sys.path.append(os.path.abspath(\"Images\"))"
   ]
  },
  {
   "cell_type": "markdown",
   "metadata": {},
   "source": [
    "### Bayes Theorem\n",
    "- Consider a spanner:\n",
    "<img src=\"Images/9_1_spanner.JPG\" height=\"300\">\n",
    "- Assume that we works in a factory, with 2 machines to produce spanner, each machine produces the same type of spanner but different amounts. Each of the spanner will be labeled based on the machine number that produces it:\n",
    "<img src=\"Images/9_2_factory.JPG\" height=\"450\">\n",
    "- At the end of the day, they are put together, and we have to take out the defected spanner:\n",
    "<img src=\"Images/9_3_defects.JPG\" height=\"300\" width=\"200\">\n",
    "- The problem is: What is the probability of machine 2 produces a defective spanner? (the defective spanner has label m2)\n",
    "#### Bayes Formular\n",
    "$$P(A|B) = \\frac{P(B|A)*P(A)}{P(B)}$$\n",
    "- First, we have: \n",
    "    - Machine 1: 30 spanners/hr\n",
    "    - Machine 2: 20 spanners/hr\n",
    "- Out of all produced parts:\n",
    "    - There are 1% of defective spanners\n",
    "- Out of all **defective** parts:\n",
    "    - There are 50% from machine 1, 50% from machine 2\n",
    "- So we have:\n",
    "    - P(mach_1) = 30/50 = 0.6\n",
    "    - P(mach_2) = 20/50 = 0.4\n",
    "    - P(defect) = 1%\n",
    "    - P(mach_1|defect) = 50%\n",
    "    - P(mach_2|defect) = 50%\n",
    "- Using Bayes:\n",
    "$$P(defect|mach_2) = \\frac{P(mach_2|defect)*P(defect)}{P(mach_2)}$$\n",
    "\n",
    "### Naive Bayes Classifier\n",
    "- How to apply Bayes theorem to make an algorithm for machine learning?\n",
    "<img src=\"Images/9_4_problem.JPG\" height=\"300\">\n",
    "- **Plan of Attack**: \n",
    "    - Step 1: what is the probability that the New person (new data point) will walk\n",
    "    - Note that X is a vector of features of the person (Age, Salary) or X = (X1, X2):\n",
    "   <img src=\"Images/9_5_Interpretation.JPG\" height=\"300\"> \n",
    "   - Step 2: the same, but the person will drive\n",
    "   - Step 3: compare between those 2.\n",
    "- How to perform those steps?\n",
    "    - Calculate P(Walks):\n",
    "    $$P(Walks) = \\frac{No.of.walkers}{total.obs} = \\frac{10}{30}$$\n",
    "    - Calculate the Prior P(X): Draw a circle around X with a certain radius. So all the datapoints inside the circle can be considered as having the same Features with X. P(X) tells us what is the likelihood of any new random variable that we add to the dataset falling inside that circle.\n",
    "    $$P(X)=\\frac{No.of.similar.obs}{total.obs}=4/30$$\n",
    "    <img src=\"Images/9_6_P(X).JPG\" height=\"300\"> \n",
    "    - Calculate Likelihood P(X|Walks): what is the likelihood of people who walk having the same characteristics as X? As in the figure above, we see that there are 3 Walks in the circle, so:\n",
    "    $$P(X|Walks) = \\frac{red.in.circle}{total.red} = \\frac{3}{10}$$\n",
    "    - So P(Walks|X) = 0.75 using Bayes.\n",
    "    - Similarly, we calculate P(Drive|X) = 0.25.\n",
    "    - So we decide that X belongs to Walk category.\n",
    "\n",
    "### Naive Bayes Extras\n",
    "1. Why it is called \"Naive\"?\n",
    "    - Bayes theorem requires **Independence Assumption**, it means that in practice, it's not correct, but we assume that those variables are independent, we are \"naive\". As in the example, Salary and Age must be independent. But in the example, we see that there are some correlations between Age and Salary because the scatter plot shows that the older the person, the more he/she earns.\n",
    "\n",
    "2. Understanding P(X):\n",
    "    - We assume that all the datapoints lie within the circle (the new point X added is the center) will have the same features as X.\n",
    "    - Another way to understand: What if we throw a random datapoint into the dataset? What is the likelihood that it will fall into the circle? Note that to calculate Bayes for Walks and Drives, we can eliminate P(X) in the denominator. So we can compare only the nominator => Maximum Likelihood\n",
    "\n",
    "3. What happens if we have more than 2 classes?\n",
    "    - So compare the posteriori of all of those classes, and decide the one with largest (Maximum a Posteriori (MAP))\n",
    "\n",
    "### Implementation"
   ]
  },
  {
   "cell_type": "code",
   "execution_count": 2,
   "metadata": {
    "collapsed": true
   },
   "outputs": [],
   "source": [
    "import numpy as np\n",
    "import pandas as pd\n",
    "import matplotlib.pyplot as plt\n",
    "\n",
    "%matplotlib inline"
   ]
  },
  {
   "cell_type": "code",
   "execution_count": 3,
   "metadata": {
    "collapsed": true
   },
   "outputs": [],
   "source": [
    "dataset = pd.read_csv(\"Datasets/ML_a_z/Social_Network_Ads.csv\")"
   ]
  },
  {
   "cell_type": "code",
   "execution_count": 4,
   "metadata": {
    "collapsed": false
   },
   "outputs": [
    {
     "data": {
      "text/html": [
       "<div>\n",
       "<table border=\"1\" class=\"dataframe\">\n",
       "  <thead>\n",
       "    <tr style=\"text-align: right;\">\n",
       "      <th></th>\n",
       "      <th>User ID</th>\n",
       "      <th>Gender</th>\n",
       "      <th>Age</th>\n",
       "      <th>EstimatedSalary</th>\n",
       "      <th>Purchased</th>\n",
       "    </tr>\n",
       "  </thead>\n",
       "  <tbody>\n",
       "    <tr>\n",
       "      <th>0</th>\n",
       "      <td>15624510</td>\n",
       "      <td>Male</td>\n",
       "      <td>19.0</td>\n",
       "      <td>19000.0</td>\n",
       "      <td>0</td>\n",
       "    </tr>\n",
       "    <tr>\n",
       "      <th>1</th>\n",
       "      <td>15810944</td>\n",
       "      <td>Male</td>\n",
       "      <td>35.0</td>\n",
       "      <td>20000.0</td>\n",
       "      <td>0</td>\n",
       "    </tr>\n",
       "    <tr>\n",
       "      <th>2</th>\n",
       "      <td>15668575</td>\n",
       "      <td>Female</td>\n",
       "      <td>26.0</td>\n",
       "      <td>43000.0</td>\n",
       "      <td>0</td>\n",
       "    </tr>\n",
       "    <tr>\n",
       "      <th>3</th>\n",
       "      <td>15603246</td>\n",
       "      <td>Female</td>\n",
       "      <td>27.0</td>\n",
       "      <td>57000.0</td>\n",
       "      <td>0</td>\n",
       "    </tr>\n",
       "    <tr>\n",
       "      <th>4</th>\n",
       "      <td>15804002</td>\n",
       "      <td>Male</td>\n",
       "      <td>19.0</td>\n",
       "      <td>76000.0</td>\n",
       "      <td>0</td>\n",
       "    </tr>\n",
       "  </tbody>\n",
       "</table>\n",
       "</div>"
      ],
      "text/plain": [
       "    User ID  Gender   Age  EstimatedSalary  Purchased\n",
       "0  15624510    Male  19.0          19000.0          0\n",
       "1  15810944    Male  35.0          20000.0          0\n",
       "2  15668575  Female  26.0          43000.0          0\n",
       "3  15603246  Female  27.0          57000.0          0\n",
       "4  15804002    Male  19.0          76000.0          0"
      ]
     },
     "execution_count": 4,
     "metadata": {},
     "output_type": "execute_result"
    }
   ],
   "source": [
    "dataset.head()"
   ]
  },
  {
   "cell_type": "code",
   "execution_count": 5,
   "metadata": {
    "collapsed": true
   },
   "outputs": [],
   "source": [
    "X = dataset.iloc[:, 2:-1].values\n",
    "y = dataset.iloc[:, -1].values"
   ]
  },
  {
   "cell_type": "code",
   "execution_count": 6,
   "metadata": {
    "collapsed": true
   },
   "outputs": [],
   "source": [
    "# Split into training and test set\n",
    "from sklearn.cross_validation import train_test_split\n",
    "X_train, X_test, y_train, y_test = train_test_split(X, y,\n",
    "                                                   test_size=0.2,\n",
    "                                                   random_state=0)"
   ]
  },
  {
   "cell_type": "code",
   "execution_count": 7,
   "metadata": {
    "collapsed": true
   },
   "outputs": [],
   "source": [
    "# Feature scaling\n",
    "from sklearn.preprocessing import StandardScaler\n",
    "sc = StandardScaler()\n",
    "X_train = sc.fit_transform(X_train)\n",
    "X_test = sc.fit_transform(X_test)"
   ]
  },
  {
   "cell_type": "code",
   "execution_count": 8,
   "metadata": {
    "collapsed": true
   },
   "outputs": [],
   "source": [
    "# Classifier\n",
    "from sklearn.naive_bayes import GaussianNB\n",
    "classifier = GaussianNB()"
   ]
  },
  {
   "cell_type": "code",
   "execution_count": 10,
   "metadata": {
    "collapsed": false
   },
   "outputs": [
    {
     "data": {
      "text/plain": [
       "GaussianNB(priors=None)"
      ]
     },
     "execution_count": 10,
     "metadata": {},
     "output_type": "execute_result"
    }
   ],
   "source": [
    "classifier.fit(X_train, y_train)"
   ]
  },
  {
   "cell_type": "code",
   "execution_count": 11,
   "metadata": {
    "collapsed": true
   },
   "outputs": [],
   "source": [
    "y_pred = classifier.predict(X_test)"
   ]
  },
  {
   "cell_type": "code",
   "execution_count": 14,
   "metadata": {
    "collapsed": true
   },
   "outputs": [],
   "source": [
    "# Confusion matrix\n",
    "from sklearn.metrics import confusion_matrix\n",
    "cm = confusion_matrix(y_test, y_pred)"
   ]
  },
  {
   "cell_type": "code",
   "execution_count": 15,
   "metadata": {
    "collapsed": false
   },
   "outputs": [
    {
     "data": {
      "text/plain": [
       "array([[54,  4],\n",
       "       [ 1, 21]])"
      ]
     },
     "execution_count": 15,
     "metadata": {},
     "output_type": "execute_result"
    }
   ],
   "source": [
    "cm"
   ]
  },
  {
   "cell_type": "code",
   "execution_count": 17,
   "metadata": {
    "collapsed": false
   },
   "outputs": [
    {
     "data": {
      "image/png": "[encoded data removed]",
      "text/plain": [
       "<matplotlib.figure.Figure at 0xacceba8>"
      ]
     },
     "metadata": {},
     "output_type": "display_data"
    }
   ],
   "source": [
    "# Visualization\n",
    "from matplotlib.colors import ListedColormap\n",
    "X_set, y_set = X_train, y_train\n",
    "X1 = X_set[:, 0]\n",
    "X2 = X_set[:, 1]\n",
    "X1, X2 = np.meshgrid(np.arange(X1.min()-1, X1.max()+1, 0.01),\n",
    "                    np.arange(X2.min()-1, X2.max()+1, 0.01))\n",
    "X_plot = np.array([X1.ravel(), X2.ravel()])\n",
    "y_plot = classifier.predict(X_plot.T).reshape(X1.shape)\n",
    "plt.contourf(X1, X2, y_plot, alpha=0.75, \n",
    "            cmap=ListedColormap(('red', 'green')))\n",
    "for i, j in enumerate(np.unique(y_set)):\n",
    "    plt.scatter(X_set[y_set==j, 0], X_set[y_set==j, 1],\n",
    "               c=ListedColormap(('red', 'green'))(i),\n",
    "               label=j)"
   ]
  },
  {
   "cell_type": "code",
   "execution_count": 18,
   "metadata": {
    "collapsed": false
   },
   "outputs": [
    {
     "data": {
      "image/png": "[encoded data removed]",
      "text/plain": [
       "<matplotlib.figure.Figure at 0xd62a240>"
      ]
     },
     "metadata": {},
     "output_type": "display_data"
    }
   ],
   "source": [
    "# Visualization\n",
    "from matplotlib.colors import ListedColormap\n",
    "X_set, y_set = X_test, y_test\n",
    "X1 = X_set[:, 0]\n",
    "X2 = X_set[:, 1]\n",
    "X1, X2 = np.meshgrid(np.arange(X1.min()-1, X1.max()+1, 0.01),\n",
    "                    np.arange(X2.min()-1, X2.max()+1, 0.01))\n",
    "X_plot = np.array([X1.ravel(), X2.ravel()])\n",
    "y_plot = classifier.predict(X_plot.T).reshape(X1.shape)\n",
    "plt.contourf(X1, X2, y_plot, alpha=0.75, \n",
    "            cmap=ListedColormap(('red', 'green')))\n",
    "for i, j in enumerate(np.unique(y_set)):\n",
    "    plt.scatter(X_set[y_set==j, 0], X_set[y_set==j, 1],\n",
    "               c=ListedColormap(('red', 'green'))(i),\n",
    "               label=j)"
   ]
  },
  {
   "cell_type": "code",
   "execution_count": null,
   "metadata": {
    "collapsed": true
   },
   "outputs": [],
   "source": []
  }
 ],
 "metadata": {
  "kernelspec": {
   "display_name": "Python [Root]",
   "language": "python",
   "name": "Python [Root]"
  },
  "language_info": {
   "codemirror_mode": {
    "name": "ipython",
    "version": 2
   },
   "file_extension": ".py",
   "mimetype": "text/x-python",
   "name": "python",
   "nbconvert_exporter": "python",
   "pygments_lexer": "ipython2",
   "version": "2.7.12"
  }
 },
 "nbformat": 4,
 "nbformat_minor": 0
}
