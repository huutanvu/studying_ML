{
 "cells": [
  {
   "cell_type": "markdown",
   "metadata": {},
   "source": [
    "### Clustering\n",
    "- Clustering is similar to classification, but the basis is different. \n",
    "- In Clustering you don’t know what you are looking for, and you are trying to identify some segments or clusters in your data.\n",
    "- When you use clustering algorithms on your dataset, unexpected things can suddenly pop up like structures, clusters and groupings you would have never thought of otherwise.\n",
    "- It's an Unsupervised Learning"
   ]
  },
  {
   "cell_type": "code",
   "execution_count": 1,
   "metadata": {
    "collapsed": true
   },
   "outputs": [],
   "source": [
    "import os, sys\n",
    "\n",
    "sys.path.append(os.path.abspath(\"Datasets\"))\n",
    "sys.path.append(os.path.abspath(\"Images\"))"
   ]
  },
  {
   "cell_type": "markdown",
   "metadata": {},
   "source": [
    "### K-Means clustering:\n",
    "\n",
    "#### What K-Means does?\n",
    "- First thing is that, there is no label in the dataset! That's why it's called unsupervised learning.\n",
    "<img src=\"Images/13_1_K_Mean_1.JPG\" height=\"300\">\n",
    "- K-Means can work with multidimensional (multi independent variables)\n",
    "\n",
    "#### How K-Means works?\n",
    "- **Step 1**: Choose the number K of clusters (How many classes)\n",
    "- **Step 2**: Select at random K points which will be the centroids (not necessarily from 1 of the data point within dataset)\n",
    "- **Step 3**: Assign each data point to the closest centroid => That forms K clusters (Using Eucledian distance or others, can be chosen)\n",
    "- **Step 4**: Compute and replace the new centroid of each cluster. (Center of mass, gravity)\n",
    "- **Step 5**: Reassign each data point to the new closest centroid. If any reassignment took place, go to Step 4, otherwise Finish.\n",
    "\n",
    "#### Visualize those steps:\n",
    "<img src=\"Images/13_2_Step_1.JPG\" width=\"300\">\n",
    "<img src=\"Images/13_2_Step_2.JPG\" height=\"300\">\n",
    "<img src=\"Images/13_2_Step_3.JPG\" height=\"300\">\n",
    "<img src=\"Images/13_2_Step_4.JPG\" width=\"400\">\n",
    "<img src=\"Images/13_2_Step_5.JPG\" width=\"400\">\n",
    "##### Back to step 4\n",
    "<img src=\"Images/13_2_Step_4_2.JPG\" width=\"400\">\n",
    "<img src=\"Images/13_2_Step_5_2.JPG\" width=\"400\">\n",
    "... And go on\n",
    "##### Finally:\n",
    "<img src=\"Images/13_2_final.JPG\" width=\"400\">\n",
    "<img src=\"Images/13_3_model.JPG\" width=\"400\">\n",
    "\n",
    "#### Random Initialization Trap\n",
    "<img src=\"Images/13_4_Trap_1.JPG\" width=\"300\">\n",
    "... so we end up with\n",
    "<img src=\"Images/13_4_Trap_2.JPG\" width=\"300\">\n",
    "- The question is: what if we locate the centroids at the beginning at different positions that can make the result different? (Bad random initialization)\n",
    "\n",
    "- Problem in steps:\n",
    "<img src=\"Images/13_4_Trap_3.JPG\" height=\"400\">\n",
    "<img src=\"Images/13_4_Trap_4.JPG\" height=\"400\">\n",
    "... and then recalculate\n",
    "<img src=\"Images/13_4_Trap_5.JPG\" width=\"400\">\n",
    "... and we have totally different result:\n",
    "<img src=\"Images/13_4_Trap_6.JPG\" width=\"400\">\n",
    "\n",
    "- **True clusters**:\n",
    "<img src=\"Images/13_4_Trap_2.JPG\" width=\"300\">\n",
    "- **New clusters**:\n",
    "<img src=\"Images/13_4_Trap_final.JPG\" width=\"300\">\n",
    "\n",
    "=> The selection of centroids at the beginning plays a very important role, can dictate the algorithm. The centroids are selected randomly, so how can we combat it?\n",
    "\n",
    "=> **K-Means++ algorithm**\n",
    "\n",
    "#### Choosing the right number of clusters\n",
    "- Given dataset:\n",
    "<img src=\"Images/13_5_dataset.JPG\" width=\"400\">\n",
    "- How can we know 3 is the best, or 5, 10?\n",
    "<img src=\"Images/13_5_3_clusters.JPG\" width=\"400\">\n",
    "- Within classes Sum of Square (WCSS): (for 3 clusters)\n",
    "<img src=\"Images/13_5_WCSS.JPG\" width=\"500\">\n",
    "\n",
    "- WCSS will change if we change the number of centroids, or the position of centroids.\n",
    "- Increase number of clusters reduce the WCSS (10 points, 10 clusters => WCSS = 0)\n",
    "- What is the optimal WCSS, too low can create overfit. \n",
    "<img src=\"Images/13_5_WCSS_Chart.JPG\" width=\"500\">\n",
    "- We see that from 1 to 2, it changes 5000, 2 to 3, it changes 2000, but then it jumps not much from 4 upwards.\n",
    "- The elbow method: optimal number of cluster is at the elbow!, or K = 3 in the above figure.\n"
   ]
  },
  {
   "cell_type": "code",
   "execution_count": 1,
   "metadata": {
    "collapsed": true
   },
   "outputs": [],
   "source": [
    "import numpy as np\n",
    "import pandas as pd\n",
    "import matplotlib.pyplot as plt\n",
    "\n",
    "%matplotlib inline"
   ]
  },
  {
   "cell_type": "code",
   "execution_count": 2,
   "metadata": {
    "collapsed": true
   },
   "outputs": [],
   "source": [
    "dataset = pd.read_csv(\"Datasets/ML_a_z/Mall_Customers.csv\")"
   ]
  },
  {
   "cell_type": "code",
   "execution_count": 3,
   "metadata": {
    "collapsed": false
   },
   "outputs": [
    {
     "data": {
      "text/html": [
       "<div>\n",
       "<table border=\"1\" class=\"dataframe\">\n",
       "  <thead>\n",
       "    <tr style=\"text-align: right;\">\n",
       "      <th></th>\n",
       "      <th>CustomerID</th>\n",
       "      <th>Genre</th>\n",
       "      <th>Age</th>\n",
       "      <th>Annual Income (k$)</th>\n",
       "      <th>Spending Score (1-100)</th>\n",
       "    </tr>\n",
       "  </thead>\n",
       "  <tbody>\n",
       "    <tr>\n",
       "      <th>0</th>\n",
       "      <td>1</td>\n",
       "      <td>Male</td>\n",
       "      <td>19</td>\n",
       "      <td>15</td>\n",
       "      <td>39</td>\n",
       "    </tr>\n",
       "    <tr>\n",
       "      <th>1</th>\n",
       "      <td>2</td>\n",
       "      <td>Male</td>\n",
       "      <td>21</td>\n",
       "      <td>15</td>\n",
       "      <td>81</td>\n",
       "    </tr>\n",
       "    <tr>\n",
       "      <th>2</th>\n",
       "      <td>3</td>\n",
       "      <td>Female</td>\n",
       "      <td>20</td>\n",
       "      <td>16</td>\n",
       "      <td>6</td>\n",
       "    </tr>\n",
       "    <tr>\n",
       "      <th>3</th>\n",
       "      <td>4</td>\n",
       "      <td>Female</td>\n",
       "      <td>23</td>\n",
       "      <td>16</td>\n",
       "      <td>77</td>\n",
       "    </tr>\n",
       "    <tr>\n",
       "      <th>4</th>\n",
       "      <td>5</td>\n",
       "      <td>Female</td>\n",
       "      <td>31</td>\n",
       "      <td>17</td>\n",
       "      <td>40</td>\n",
       "    </tr>\n",
       "  </tbody>\n",
       "</table>\n",
       "</div>"
      ],
      "text/plain": [
       "   CustomerID   Genre  Age  Annual Income (k$)  Spending Score (1-100)\n",
       "0           1    Male   19                  15                      39\n",
       "1           2    Male   21                  15                      81\n",
       "2           3  Female   20                  16                       6\n",
       "3           4  Female   23                  16                      77\n",
       "4           5  Female   31                  17                      40"
      ]
     },
     "execution_count": 3,
     "metadata": {},
     "output_type": "execute_result"
    }
   ],
   "source": [
    "dataset.head()"
   ]
  },
  {
   "cell_type": "code",
   "execution_count": 4,
   "metadata": {
    "collapsed": true
   },
   "outputs": [],
   "source": [
    "X = dataset.iloc[:, 3:].values\n",
    "# Clustering problem, we don't have y, no answer. The bank wants to\n",
    "# know how many clusters of clients should be segmented\n"
   ]
  },
  {
   "cell_type": "code",
   "execution_count": 7,
   "metadata": {
    "collapsed": false
   },
   "outputs": [
    {
     "data": {
      "text/plain": [
       "<matplotlib.collections.PathCollection at 0xa5a16d8>"
      ]
     },
     "execution_count": 7,
     "metadata": {},
     "output_type": "execute_result"
    },
    {
     "data": {
      "image/png": "[encoded data removed]",
      "text/plain": [
       "<matplotlib.figure.Figure at 0xa19ab70>"
      ]
     },
     "metadata": {},
     "output_type": "display_data"
    }
   ],
   "source": [
    "plt.scatter(X[:, 0], X[:, 1])"
   ]
  },
  {
   "cell_type": "code",
   "execution_count": 8,
   "metadata": {
    "collapsed": true
   },
   "outputs": [],
   "source": [
    "# How many clusters should be chosen? Use Elbow Method\n",
    "from sklearn.cluster import KMeans\n"
   ]
  },
  {
   "cell_type": "code",
   "execution_count": 10,
   "metadata": {
    "collapsed": true
   },
   "outputs": [],
   "source": [
    "wcss = []\n",
    "for i in range(1, 11):\n",
    "    kmeans = KMeans(n_clusters=i, init=\"k-means++\",\n",
    "                   n_init=10, random_state=0)\n",
    "    kmeans.fit(X)\n",
    "    wcss.append(kmeans.inertia_)"
   ]
  },
  {
   "cell_type": "code",
   "execution_count": 12,
   "metadata": {
    "collapsed": false
   },
   "outputs": [
    {
     "data": {
      "text/plain": [
       "[<matplotlib.lines.Line2D at 0xcf5a080>]"
      ]
     },
     "execution_count": 12,
     "metadata": {},
     "output_type": "execute_result"
    },
    {
     "data": {
      "image/png": "[encoded data removed]",
      "text/plain": [
       "<matplotlib.figure.Figure at 0xcdedd30>"
      ]
     },
     "metadata": {},
     "output_type": "display_data"
    }
   ],
   "source": [
    "plt.plot(range(1, 11), wcss)"
   ]
  },
  {
   "cell_type": "code",
   "execution_count": 18,
   "metadata": {
    "collapsed": false
   },
   "outputs": [],
   "source": [
    "# Choose k = 5\n",
    "kmeans_classifier = KMeans(n_clusters=5, init=\"k-means++\",\n",
    "                         n_init=10, random_state=0)\n",
    "y_kmeans = kmeans_classifier.fit_predict(X)"
   ]
  },
  {
   "cell_type": "code",
   "execution_count": 19,
   "metadata": {
    "collapsed": true
   },
   "outputs": [],
   "source": [
    "# Visualization\n",
    "from matplotlib.colors import ListedColormap\n",
    "X_set, y_set = X, y_kmeans\n",
    "X1 = X_set[:, 0]\n",
    "X2 = X_set[:, 1]"
   ]
  },
  {
   "cell_type": "code",
   "execution_count": 31,
   "metadata": {
    "collapsed": false
   },
   "outputs": [
    {
     "data": {
      "text/plain": [
       "<matplotlib.legend.Legend at 0xd57f6a0>"
      ]
     },
     "execution_count": 31,
     "metadata": {},
     "output_type": "execute_result"
    },
    {
     "data": {
      "image/png": "[encoded data removed]",
      "text/plain": [
       "<matplotlib.figure.Figure at 0xd57f2b0>"
      ]
     },
     "metadata": {},
     "output_type": "display_data"
    }
   ],
   "source": [
    "colors = ['red', 'blue', 'green', 'cyan', 'magenta']\n",
    "for i in range(0, 5):\n",
    "    plt.scatter(X[y_kmeans==i, 0], X[y_kmeans==i, 1], s=100, c=colors[i],\n",
    "                label=\"cluster_\" + str(i))\n",
    "plt.scatter(kmeans.cluster_centers_[:, 0], \n",
    "           kmeans.cluster_centers_[:, 1],\n",
    "           s = 308, c='yellow', label='Centroids')\n",
    "plt.legend()"
   ]
  },
  {
   "cell_type": "code",
   "execution_count": null,
   "metadata": {
    "collapsed": true
   },
   "outputs": [],
   "source": []
  }
 ],
 "metadata": {
  "anaconda-cloud": {},
  "kernelspec": {
   "display_name": "Python [Root]",
   "language": "python",
   "name": "Python [Root]"
  },
  "language_info": {
   "codemirror_mode": {
    "name": "ipython",
    "version": 2
   },
   "file_extension": ".py",
   "mimetype": "text/x-python",
   "name": "python",
   "nbconvert_exporter": "python",
   "pygments_lexer": "ipython2",
   "version": "2.7.12"
  }
 },
 "nbformat": 4,
 "nbformat_minor": 0
}
