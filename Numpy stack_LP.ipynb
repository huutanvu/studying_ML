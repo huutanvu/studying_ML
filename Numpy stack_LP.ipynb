{
 "cells": [
  {
   "cell_type": "code",
   "execution_count": 1,
   "metadata": {
    "collapsed": true
   },
   "outputs": [],
   "source": [
    "import sys\n",
    "import os\n",
    "\n",
    "sys.path.append(os.path.abspath(\"Datasets\"))"
   ]
  },
  {
   "cell_type": "code",
   "execution_count": 2,
   "metadata": {
    "collapsed": true
   },
   "outputs": [],
   "source": [
    "import numpy as np"
   ]
  },
  {
   "cell_type": "code",
   "execution_count": 3,
   "metadata": {
    "collapsed": false
   },
   "outputs": [],
   "source": [
    "a = np.array([1, 2])"
   ]
  },
  {
   "cell_type": "code",
   "execution_count": 4,
   "metadata": {
    "collapsed": false
   },
   "outputs": [],
   "source": [
    "b = np.array([3, 4])"
   ]
  },
  {
   "cell_type": "code",
   "execution_count": 5,
   "metadata": {
    "collapsed": false
   },
   "outputs": [
    {
     "data": {
      "text/plain": [
       "[(1, 3), (2, 4)]"
      ]
     },
     "execution_count": 5,
     "metadata": {},
     "output_type": "execute_result"
    }
   ],
   "source": [
    "zip(a, b)"
   ]
  },
  {
   "cell_type": "code",
   "execution_count": 6,
   "metadata": {
    "collapsed": true
   },
   "outputs": [],
   "source": [
    "dot = 0\n",
    "for e, f in zip(a, b):\n",
    "    dot += e * f"
   ]
  },
  {
   "cell_type": "code",
   "execution_count": 7,
   "metadata": {
    "collapsed": false
   },
   "outputs": [
    {
     "data": {
      "text/plain": [
       "11"
      ]
     },
     "execution_count": 7,
     "metadata": {},
     "output_type": "execute_result"
    }
   ],
   "source": [
    "dot # Dot product of two vector a, b"
   ]
  },
  {
   "cell_type": "code",
   "execution_count": 8,
   "metadata": {
    "collapsed": false
   },
   "outputs": [
    {
     "data": {
      "text/plain": [
       "array([3, 8])"
      ]
     },
     "execution_count": 8,
     "metadata": {},
     "output_type": "execute_result"
    }
   ],
   "source": [
    "a * b # Multiply element-wise only"
   ]
  },
  {
   "cell_type": "code",
   "execution_count": 9,
   "metadata": {
    "collapsed": false
   },
   "outputs": [
    {
     "data": {
      "text/plain": [
       "11"
      ]
     },
     "execution_count": 9,
     "metadata": {},
     "output_type": "execute_result"
    }
   ],
   "source": [
    "np.dot(a, b)"
   ]
  },
  {
   "cell_type": "code",
   "execution_count": 10,
   "metadata": {
    "collapsed": false
   },
   "outputs": [
    {
     "data": {
      "text/plain": [
       "11"
      ]
     },
     "execution_count": 10,
     "metadata": {},
     "output_type": "execute_result"
    }
   ],
   "source": [
    "a.dot(b)"
   ]
  },
  {
   "cell_type": "code",
   "execution_count": 11,
   "metadata": {
    "collapsed": true
   },
   "outputs": [],
   "source": [
    "a_mag = np.sqrt( (a * a) .sum())"
   ]
  },
  {
   "cell_type": "code",
   "execution_count": 12,
   "metadata": {
    "collapsed": false
   },
   "outputs": [
    {
     "data": {
      "text/plain": [
       "2.2360679774997898"
      ]
     },
     "execution_count": 12,
     "metadata": {},
     "output_type": "execute_result"
    }
   ],
   "source": [
    "a_mag"
   ]
  },
  {
   "cell_type": "code",
   "execution_count": 13,
   "metadata": {
    "collapsed": true
   },
   "outputs": [],
   "source": [
    "a_mag = np.linalg.norm(a)"
   ]
  },
  {
   "cell_type": "code",
   "execution_count": 14,
   "metadata": {
    "collapsed": false
   },
   "outputs": [
    {
     "data": {
      "text/plain": [
       "2.2360679774997898"
      ]
     },
     "execution_count": 14,
     "metadata": {},
     "output_type": "execute_result"
    }
   ],
   "source": [
    "a_mag"
   ]
  },
  {
   "cell_type": "code",
   "execution_count": 15,
   "metadata": {
    "collapsed": true
   },
   "outputs": [],
   "source": [
    "cos_angle = a.dot(b) / (np.linalg.norm(a) * np.linalg.norm(b))"
   ]
  },
  {
   "cell_type": "code",
   "execution_count": 16,
   "metadata": {
    "collapsed": false
   },
   "outputs": [
    {
     "data": {
      "text/plain": [
       "0.98386991009990743"
      ]
     },
     "execution_count": 16,
     "metadata": {},
     "output_type": "execute_result"
    }
   ],
   "source": [
    "cos_angle"
   ]
  },
  {
   "cell_type": "code",
   "execution_count": 17,
   "metadata": {
    "collapsed": true
   },
   "outputs": [],
   "source": [
    "angle = np.arccos(cos_angle)"
   ]
  },
  {
   "cell_type": "code",
   "execution_count": 18,
   "metadata": {
    "collapsed": false
   },
   "outputs": [
    {
     "data": {
      "text/plain": [
       "0.17985349979247847"
      ]
     },
     "execution_count": 18,
     "metadata": {},
     "output_type": "execute_result"
    }
   ],
   "source": [
    "angle # in rad"
   ]
  },
  {
   "cell_type": "code",
   "execution_count": 19,
   "metadata": {
    "collapsed": true
   },
   "outputs": [],
   "source": [
    "# Don't use the for loop if you can avoid it"
   ]
  },
  {
   "cell_type": "code",
   "execution_count": 20,
   "metadata": {
    "collapsed": true
   },
   "outputs": [],
   "source": [
    "# How to use np.random"
   ]
  },
  {
   "cell_type": "code",
   "execution_count": 21,
   "metadata": {
    "collapsed": true
   },
   "outputs": [],
   "source": [
    "L = np.random.random((10, 10))"
   ]
  },
  {
   "cell_type": "code",
   "execution_count": 22,
   "metadata": {
    "collapsed": false
   },
   "outputs": [
    {
     "data": {
      "text/plain": [
       "array([[ 0.51022924,  0.431493  ,  0.98196452,  0.71947601,  0.11152722,\n",
       "         0.78020432,  0.14490073,  0.19801237,  0.85722691,  0.65247531],\n",
       "       [ 0.39206577,  0.379319  ,  0.41611182,  0.96402614,  0.31264215,\n",
       "         0.90546855,  0.27884409,  0.01324711,  0.08345652,  0.13805548],\n",
       "       [ 0.51936918,  0.37371727,  0.47803075,  0.00542186,  0.05254589,\n",
       "         0.86227688,  0.42649158,  0.85120904,  0.12502882,  0.79569936],\n",
       "       [ 0.57429505,  0.02917949,  0.56339848,  0.29445111,  0.13962454,\n",
       "         0.81001371,  0.84081041,  0.19814068,  0.49958334,  0.88609027],\n",
       "       [ 0.02414574,  0.3387291 ,  0.83638059,  0.28303811,  0.54226809,\n",
       "         0.02604996,  0.91429538,  0.16900983,  0.0833071 ,  0.29463431],\n",
       "       [ 0.82547882,  0.51754774,  0.10612172,  0.42689241,  0.54376464,\n",
       "         0.05227715,  0.68519097,  0.4168389 ,  0.39240807,  0.78844777],\n",
       "       [ 0.96979443,  0.7250665 ,  0.06152947,  0.5989707 ,  0.00745209,\n",
       "         0.61186281,  0.81502132,  0.44369307,  0.49213898,  0.50010972],\n",
       "       [ 0.19905353,  0.1774026 ,  0.7777319 ,  0.04083495,  0.42006568,\n",
       "         0.21001073,  0.82962666,  0.74136566,  0.83647986,  0.25736916],\n",
       "       [ 0.16571026,  0.39255328,  0.00777808,  0.31646256,  0.52877756,\n",
       "         0.47664842,  0.46084767,  0.91845319,  0.86168152,  0.81444653],\n",
       "       [ 0.95503851,  0.34582088,  0.566044  ,  0.61220895,  0.38300047,\n",
       "         0.25099713,  0.53453615,  0.90836146,  0.68968501,  0.0045659 ]])"
      ]
     },
     "execution_count": 22,
     "metadata": {},
     "output_type": "execute_result"
    }
   ],
   "source": [
    "L # Using uniform distribution to generate samples"
   ]
  },
  {
   "cell_type": "code",
   "execution_count": 23,
   "metadata": {
    "collapsed": true
   },
   "outputs": [],
   "source": [
    "O = np.random.randn(10, 10)"
   ]
  },
  {
   "cell_type": "code",
   "execution_count": 24,
   "metadata": {
    "collapsed": false
   },
   "outputs": [
    {
     "data": {
      "text/plain": [
       "array([[-1.78795691, -0.03939308,  0.30044055, -1.19811129, -0.86436705,\n",
       "        -0.1614294 , -0.48243777,  0.41611772, -1.39461969,  1.09130549],\n",
       "       [ 0.47179039,  0.55414159,  1.08444427, -1.7274184 ,  0.03803493,\n",
       "        -1.81159077, -0.81529237, -2.25925511, -0.69106576,  0.31192878],\n",
       "       [ 0.33631544, -0.80857106,  1.29047912,  0.08590767,  0.35094903,\n",
       "        -0.24285757, -0.34566358, -0.11061643, -1.45013364,  0.65868155],\n",
       "       [ 0.05888272, -0.923951  ,  0.20802257,  0.61142348, -1.19219406,\n",
       "        -2.25963044, -1.57423803, -1.42253787,  0.21435561,  1.0118635 ],\n",
       "       [-0.37119389, -0.69208953,  0.37042408, -0.18605702, -0.66154485,\n",
       "         0.71112617, -2.01432161, -0.82928712,  1.00470833,  0.79859979],\n",
       "       [ 0.49226861,  1.34688999, -0.2236982 , -2.95586266,  0.70703708,\n",
       "        -0.08045529, -0.65932544,  0.85193884, -1.26030407, -0.91019871],\n",
       "       [-0.74877786,  0.0805782 , -0.16235208,  0.2590848 , -0.43036718,\n",
       "        -2.2163256 , -0.5886167 , -0.09699242,  2.02172148, -2.09291943],\n",
       "       [ 0.8277617 ,  0.5804492 ,  0.11760231,  0.49715181, -0.10736729,\n",
       "         1.40931967,  0.01059777,  0.49041977,  0.73711459,  0.66517365],\n",
       "       [ 1.62234796, -0.55908128, -0.15168041, -0.90112508,  0.10630418,\n",
       "        -1.16364304, -0.81958993,  2.34587236, -0.95194742,  1.47252591],\n",
       "       [ 0.28819274,  0.52352915, -0.53241516,  0.18141954, -0.61106092,\n",
       "        -1.25750978, -0.00462378, -1.1443125 , -0.38674915, -0.74979067]])"
      ]
     },
     "execution_count": 24,
     "metadata": {},
     "output_type": "execute_result"
    }
   ],
   "source": [
    "O # Using normal (Gaussian) distribution"
   ]
  },
  {
   "cell_type": "code",
   "execution_count": 25,
   "metadata": {
    "collapsed": false
   },
   "outputs": [],
   "source": [
    "A = np.array([[1, 2], [3, 4]])"
   ]
  },
  {
   "cell_type": "code",
   "execution_count": 26,
   "metadata": {
    "collapsed": true
   },
   "outputs": [],
   "source": [
    "A_inv = np.linalg.inv(A)"
   ]
  },
  {
   "cell_type": "code",
   "execution_count": 27,
   "metadata": {
    "collapsed": false
   },
   "outputs": [
    {
     "data": {
      "text/plain": [
       "array([[-2. ,  1. ],\n",
       "       [ 1.5, -0.5]])"
      ]
     },
     "execution_count": 27,
     "metadata": {},
     "output_type": "execute_result"
    }
   ],
   "source": [
    "A_inv"
   ]
  },
  {
   "cell_type": "code",
   "execution_count": 28,
   "metadata": {
    "collapsed": false
   },
   "outputs": [
    {
     "data": {
      "text/plain": [
       "-2.0000000000000004"
      ]
     },
     "execution_count": 28,
     "metadata": {},
     "output_type": "execute_result"
    }
   ],
   "source": [
    "np.linalg.det(A)"
   ]
  },
  {
   "cell_type": "code",
   "execution_count": 29,
   "metadata": {
    "collapsed": false
   },
   "outputs": [
    {
     "data": {
      "text/plain": [
       "array([1, 4])"
      ]
     },
     "execution_count": 29,
     "metadata": {},
     "output_type": "execute_result"
    }
   ],
   "source": [
    "np.diag(A) # Diagonal info of a vector"
   ]
  },
  {
   "cell_type": "code",
   "execution_count": 30,
   "metadata": {
    "collapsed": false
   },
   "outputs": [
    {
     "data": {
      "text/plain": [
       "array([[1, 0],\n",
       "       [0, 2]])"
      ]
     },
     "execution_count": 30,
     "metadata": {},
     "output_type": "execute_result"
    }
   ],
   "source": [
    "np.diag([1, 2]) # Create a 2-D array of diagonal"
   ]
  },
  {
   "cell_type": "code",
   "execution_count": 31,
   "metadata": {
    "collapsed": true
   },
   "outputs": [],
   "source": [
    "a = np.array([1, 2])"
   ]
  },
  {
   "cell_type": "code",
   "execution_count": 32,
   "metadata": {
    "collapsed": true
   },
   "outputs": [],
   "source": [
    "b = np.array([3, 4])"
   ]
  },
  {
   "cell_type": "code",
   "execution_count": 33,
   "metadata": {
    "collapsed": false
   },
   "outputs": [
    {
     "data": {
      "text/plain": [
       "array([[3, 4],\n",
       "       [6, 8]])"
      ]
     },
     "execution_count": 33,
     "metadata": {},
     "output_type": "execute_result"
    }
   ],
   "source": [
    "np.outer(a, b) # Outer product of A, B"
   ]
  },
  {
   "cell_type": "code",
   "execution_count": 34,
   "metadata": {
    "collapsed": false
   },
   "outputs": [
    {
     "data": {
      "text/plain": [
       "5"
      ]
     },
     "execution_count": 34,
     "metadata": {},
     "output_type": "execute_result"
    }
   ],
   "source": [
    "np.diag(A).sum()"
   ]
  },
  {
   "cell_type": "code",
   "execution_count": 35,
   "metadata": {
    "collapsed": false
   },
   "outputs": [
    {
     "data": {
      "text/plain": [
       "5"
      ]
     },
     "execution_count": 35,
     "metadata": {},
     "output_type": "execute_result"
    }
   ],
   "source": [
    "np.trace(A)"
   ]
  },
  {
   "cell_type": "code",
   "execution_count": 36,
   "metadata": {
    "collapsed": true
   },
   "outputs": [],
   "source": [
    "# Eigenvalues, eigenvectors\n",
    "x = np.random.randn(100, 3)"
   ]
  },
  {
   "cell_type": "code",
   "execution_count": 37,
   "metadata": {
    "collapsed": true
   },
   "outputs": [],
   "source": [
    "covariance = np.cov(x)"
   ]
  },
  {
   "cell_type": "code",
   "execution_count": 38,
   "metadata": {
    "collapsed": false
   },
   "outputs": [
    {
     "data": {
      "text/plain": [
       "(100L, 100L)"
      ]
     },
     "execution_count": 38,
     "metadata": {},
     "output_type": "execute_result"
    }
   ],
   "source": [
    "covariance.shape # Wrong, should be 3, 3"
   ]
  },
  {
   "cell_type": "code",
   "execution_count": 39,
   "metadata": {
    "collapsed": true
   },
   "outputs": [],
   "source": [
    "covariance = np.cov(x.T)"
   ]
  },
  {
   "cell_type": "code",
   "execution_count": 40,
   "metadata": {
    "collapsed": false
   },
   "outputs": [
    {
     "data": {
      "text/plain": [
       "(3L, 3L)"
      ]
     },
     "execution_count": 40,
     "metadata": {},
     "output_type": "execute_result"
    }
   ],
   "source": [
    "covariance.shape # True now, have to transpose first"
   ]
  },
  {
   "cell_type": "code",
   "execution_count": 41,
   "metadata": {
    "collapsed": false
   },
   "outputs": [
    {
     "data": {
      "text/plain": [
       "array([[ 0.93650331,  0.11845328, -0.01346434],\n",
       "       [ 0.11845328,  0.97167684,  0.07979844],\n",
       "       [-0.01346434,  0.07979844,  0.92092608]])"
      ]
     },
     "execution_count": 41,
     "metadata": {},
     "output_type": "execute_result"
    }
   ],
   "source": [
    "covariance"
   ]
  },
  {
   "cell_type": "code",
   "execution_count": 42,
   "metadata": {
    "collapsed": false
   },
   "outputs": [
    {
     "data": {
      "text/plain": [
       "(array([ 0.79955877,  0.93850441,  1.09104306]),\n",
       " array([[-0.59879606, -0.57267516,  0.55989859],\n",
       "        [ 0.63710594,  0.08302929,  0.76629117],\n",
       "        [-0.4853239 ,  0.81556686,  0.31513714]]))"
      ]
     },
     "execution_count": 42,
     "metadata": {},
     "output_type": "execute_result"
    }
   ],
   "source": [
    "np.linalg.eigh(covariance) # eigenvalue, eigenvector"
   ]
  },
  {
   "cell_type": "code",
   "execution_count": 43,
   "metadata": {
    "collapsed": false
   },
   "outputs": [
    {
     "data": {
      "text/plain": [
       "(array([ 1.09104306,  0.79955877,  0.93850441]),\n",
       " array([[-0.55989859, -0.59879606, -0.57267516],\n",
       "        [-0.76629117,  0.63710594,  0.08302929],\n",
       "        [-0.31513714, -0.4853239 ,  0.81556686]]))"
      ]
     },
     "execution_count": 43,
     "metadata": {},
     "output_type": "execute_result"
    }
   ],
   "source": [
    "np.linalg.eig(covariance)"
   ]
  },
  {
   "cell_type": "code",
   "execution_count": 44,
   "metadata": {
    "collapsed": true
   },
   "outputs": [],
   "source": [
    "# How to solve a linear system"
   ]
  },
  {
   "cell_type": "code",
   "execution_count": 45,
   "metadata": {
    "collapsed": true
   },
   "outputs": [],
   "source": [
    "A = np.array([[1, 2], [3, 4]])"
   ]
  },
  {
   "cell_type": "code",
   "execution_count": 46,
   "metadata": {
    "collapsed": true
   },
   "outputs": [],
   "source": [
    "b = np.array([1, 2])"
   ]
  },
  {
   "cell_type": "code",
   "execution_count": 47,
   "metadata": {
    "collapsed": false
   },
   "outputs": [],
   "source": [
    "x = np.float16(np.linalg.inv(A).dot(b))"
   ]
  },
  {
   "cell_type": "code",
   "execution_count": 48,
   "metadata": {
    "collapsed": false
   },
   "outputs": [
    {
     "data": {
      "text/plain": [
       "array([ 0. ,  0.5], dtype=float16)"
      ]
     },
     "execution_count": 48,
     "metadata": {},
     "output_type": "execute_result"
    }
   ],
   "source": [
    "x"
   ]
  },
  {
   "cell_type": "code",
   "execution_count": 49,
   "metadata": {
    "collapsed": true
   },
   "outputs": [],
   "source": [
    "# A better way, always use this\n",
    "x = np.linalg.solve(A, b)"
   ]
  },
  {
   "cell_type": "code",
   "execution_count": 50,
   "metadata": {
    "collapsed": false
   },
   "outputs": [
    {
     "data": {
      "text/plain": [
       "array([ 0. ,  0.5])"
      ]
     },
     "execution_count": 50,
     "metadata": {},
     "output_type": "execute_result"
    }
   ],
   "source": [
    "x"
   ]
  },
  {
   "cell_type": "code",
   "execution_count": 51,
   "metadata": {
    "collapsed": true
   },
   "outputs": [],
   "source": [
    "# A simple example\n",
    "cost = np.array([[1, 1], [1.5, 4.0]])"
   ]
  },
  {
   "cell_type": "code",
   "execution_count": 52,
   "metadata": {
    "collapsed": true
   },
   "outputs": [],
   "source": [
    "result = np.array([2200, 5050])\n",
    "sol = np.linalg.solve(cost, result)"
   ]
  },
  {
   "cell_type": "code",
   "execution_count": 53,
   "metadata": {
    "collapsed": false
   },
   "outputs": [
    {
     "data": {
      "text/plain": [
       "array([ 1500.,   700.])"
      ]
     },
     "execution_count": 53,
     "metadata": {},
     "output_type": "execute_result"
    }
   ],
   "source": [
    "sol"
   ]
  },
  {
   "cell_type": "markdown",
   "metadata": {},
   "source": [
    "# Loading in Data\n",
    "Structured data - Kaggle and other datasets (Usually CSV)\n",
    "\n",
    "CSV: comma separated value\n"
   ]
  },
  {
   "cell_type": "code",
   "execution_count": 61,
   "metadata": {
    "collapsed": false
   },
   "outputs": [],
   "source": [
    "X = []\n",
    "for line in open(\"Datasets/data_2d.csv\"):\n",
    "    row = line.split(',')\n",
    "    sample = map(float, row) # Convert string to float\n",
    "    X.append(sample)"
   ]
  },
  {
   "cell_type": "code",
   "execution_count": 62,
   "metadata": {
    "collapsed": false
   },
   "outputs": [
    {
     "data": {
      "text/plain": [
       "[[17.9302012052, 94.5205919533, 320.259529602],\n",
       " [97.1446971852, 69.5932819844, 404.634471526],\n",
       " [81.7759007845, 5.73764809688, 181.485107741],\n",
       " [55.8543424175, 70.3259016768, 321.773638018],\n",
       " [49.3665499855, 75.1140401571, 322.465485583],\n",
       " [3.19270246506, 29.2562988631, 94.6188108954],\n",
       " [49.2007840582, 86.1444385075, 356.348092747],\n",
       " [21.882803904, 46.8415051959, 181.653769226],\n",
       " [79.5098627219, 87.397355535, 423.557743194],\n",
       " [88.1538874975, 65.2056419279, 369.229245443],\n",
       " [60.7438543399, 99.9576339008, 427.605803661],\n",
       " [67.4155819451, 50.3683096094, 292.471821553],\n",
       " [48.3181157719, 99.1289531425, 395.529811407],\n",
       " [28.8299719729, 87.1849488537, 319.031348455],\n",
       " [43.853742664, 64.4736390798, 287.4281441],\n",
       " [25.3136940868, 83.5452942552, 292.768908839],\n",
       " [10.807726675, 45.6955685904, 159.663307674],\n",
       " [98.365745882, 82.6973935253, 438.798963866],\n",
       " [29.1469099692, 66.3651067611, 250.986309034],\n",
       " [65.1003018959, 33.3538834975, 231.711507921],\n",
       " [24.6441134909, 39.5400527406, 163.398160832],\n",
       " [37.5598048804, 1.34572784158, 83.4801551365],\n",
       " [88.1645062351, 95.1536625708, 466.265805791],\n",
       " [13.8346208354, 25.494048204, 100.886430268],\n",
       " [64.4108437467, 77.2598381277, 365.641048062],\n",
       " [68.925991798, 97.4536007955, 426.140015493],\n",
       " [39.4884422375, 50.8561281903, 235.532389457],\n",
       " [52.4631776831, 59.7765096878, 283.291640318],\n",
       " [48.4847869797, 66.9703542227, 298.581440375],\n",
       " [8.06208781377, 98.2426001448, 309.234108782],\n",
       " [32.7318877149, 18.8535355289, 129.610139015],\n",
       " [11.6523787962, 66.2645117418, 224.150542091],\n",
       " [13.7303535349, 70.4725091314, 235.305665631],\n",
       " [8.18555176536, 41.8519894198, 153.484189455],\n",
       " [53.6098761481, 94.560121637, 394.939444253],\n",
       " [95.3686098922, 47.2955069599, 336.126738879],\n",
       " [87.3336092062, 93.8039343271, 449.363351987],\n",
       " [66.3576110919, 81.8475512843, 387.014816485],\n",
       " [19.7547175302, 65.5233009197, 240.389441595],\n",
       " [21.1334404504, 47.4371819938, 177.14828058],\n",
       " [22.37386481, 25.9556275364, 119.61125795],\n",
       " [93.9904040537, 0.127890520058, 196.716166657],\n",
       " [86.7201980995, 18.413766785, 236.260808358],\n",
       " [98.9983729904, 60.2312656882, 384.381344695],\n",
       " [3.59396564372, 96.2522173231, 293.237183045],\n",
       " [15.1023633732, 92.5569035696, 304.890882807],\n",
       " [97.8341407695, 2.02390810433, 201.293598424],\n",
       " [19.9382196923, 46.7782734632, 170.610093035],\n",
       " [30.3735111369, 58.7775251616, 242.373484227],\n",
       " [73.2928831485, 67.6696277593, 353.082991304],\n",
       " [52.2309008804, 81.9024482531, 348.725688557],\n",
       " [86.4295761137, 66.5402275975, 365.959970954],\n",
       " [93.4008021441, 18.0752459352, 235.472381633],\n",
       " [13.213460059, 91.4888587787, 300.606878255],\n",
       " [4.59346270394, 46.3359315158, 145.818745251],\n",
       " [15.6692915825, 35.5437439971, 138.880334695],\n",
       " [52.9593597724, 68.7202096086, 317.163707741],\n",
       " [56.8175212312, 47.5727319202, 254.903631301],\n",
       " [51.1335430813, 78.0421674552, 334.5843335],\n",
       " [7.86216471526, 17.7290817759, 69.3555888141],\n",
       " [54.6986037014, 92.7445841407, 386.859937239],\n",
       " [86.3990630133, 41.8886945857, 294.871713576],\n",
       " [11.9475060186, 42.9613867358, 156.754219545],\n",
       " [70.3584010648, 83.7062345104, 391.806135291],\n",
       " [29.0223663255, 84.327783082, 319.310462851],\n",
       " [42.7594799067, 97.4933260814, 376.291589478],\n",
       " [96.2156564389, 25.8342825832, 280.617043873],\n",
       " [53.2277276552, 27.9055085669, 194.430465068],\n",
       " [30.3609896715, 0.939644215313, 69.6488631767],\n",
       " [83.2775653897, 73.1793485695, 384.597184993],\n",
       " [30.1876924786, 7.1465385989, 89.5390083986],\n",
       " [11.7884184617, 51.6977608445, 181.550682802],\n",
       " [18.2924240117, 61.9779760484, 224.773382884],\n",
       " [96.7126676927, 9.0291015125, 219.567093701],\n",
       " [31.0127386947, 78.2833824603, 298.490216481],\n",
       " [11.3972607536, 61.728693243, 199.944044715],\n",
       " [17.3925557906, 4.24114086314, 43.9156923531],\n",
       " [72.1826937267, 34.5390721676, 256.068378234],\n",
       " [73.980020785, 3.71649343826, 159.372580639],\n",
       " [94.4930583509, 88.41719702, 447.132703621],\n",
       " [84.5628207335, 20.2411621935, 233.078829579],\n",
       " [51.7424739723, 11.009747964, 131.070179635],\n",
       " [53.7485903953, 60.0251022958, 298.814332704],\n",
       " [85.0508347563, 95.7369969538, 451.80352299],\n",
       " [46.7772504514, 90.2022062395, 368.366435952],\n",
       " [49.7584341737, 52.834494361, 254.706774007],\n",
       " [24.1192565017, 42.1028107802, 168.308432759],\n",
       " [27.2015764537, 29.9787492892, 146.34226],\n",
       " [7.00959616769, 55.876058392, 176.810148976],\n",
       " [97.6469496688, 8.14762512696, 219.16028041],\n",
       " [1.38298250945, 84.9440869198, 252.905652954],\n",
       " [22.3235303534, 27.5150750402, 127.570478844],\n",
       " [45.0454062325, 93.5204022248, 375.822340339],\n",
       " [40.1639914677, 0.161699234822, 80.3890193252],\n",
       " [53.182739793, 8.17031616228, 142.718183077],\n",
       " [46.4567791559, 82.000170914, 336.876154384],\n",
       " [77.1303006946, 95.1887594549, 438.460586127],\n",
       " [68.600607572, 72.5711807231, 355.900286918],\n",
       " [41.6938871165, 69.241125973, 284.834636711],\n",
       " [4.1426693978, 52.2547263792, 168.034400947]]"
      ]
     },
     "execution_count": 62,
     "metadata": {},
     "output_type": "execute_result"
    }
   ],
   "source": [
    "X"
   ]
  },
  {
   "cell_type": "code",
   "execution_count": 63,
   "metadata": {
    "collapsed": true
   },
   "outputs": [],
   "source": [
    "X = np.array(X)"
   ]
  },
  {
   "cell_type": "code",
   "execution_count": 64,
   "metadata": {
    "collapsed": false
   },
   "outputs": [
    {
     "data": {
      "text/plain": [
       "(100L, 3L)"
      ]
     },
     "execution_count": 64,
     "metadata": {},
     "output_type": "execute_result"
    }
   ],
   "source": [
    "X.shape"
   ]
  },
  {
   "cell_type": "markdown",
   "metadata": {},
   "source": [
    "# How to use Pandas\n",
    "## DataFrames\n"
   ]
  },
  {
   "cell_type": "code",
   "execution_count": 65,
   "metadata": {
    "collapsed": false
   },
   "outputs": [
    {
     "data": {
      "text/plain": [
       "'C:\\\\Users\\\\HuuTanVu\\\\Documents\\\\studying_ML\\\\machine_learning_examples-master\\\\linear_regression_class\\\\data_2d.csv'"
      ]
     },
     "execution_count": 65,
     "metadata": {},
     "output_type": "execute_result"
    }
   ],
   "source": [
    "path"
   ]
  },
  {
   "cell_type": "code",
   "execution_count": 66,
   "metadata": {
    "collapsed": true
   },
   "outputs": [],
   "source": [
    "import pandas as pd"
   ]
  },
  {
   "cell_type": "code",
   "execution_count": 70,
   "metadata": {
    "collapsed": false
   },
   "outputs": [],
   "source": [
    "X = pd.read_csv(\"Datasets/data_2d.csv\", header=None)"
   ]
  },
  {
   "cell_type": "code",
   "execution_count": 71,
   "metadata": {
    "collapsed": false
   },
   "outputs": [
    {
     "data": {
      "text/html": [
       "<div>\n",
       "<table border=\"1\" class=\"dataframe\">\n",
       "  <thead>\n",
       "    <tr style=\"text-align: right;\">\n",
       "      <th></th>\n",
       "      <th>0</th>\n",
       "      <th>1</th>\n",
       "      <th>2</th>\n",
       "    </tr>\n",
       "  </thead>\n",
       "  <tbody>\n",
       "    <tr>\n",
       "      <th>0</th>\n",
       "      <td>17.930201</td>\n",
       "      <td>94.520592</td>\n",
       "      <td>320.259530</td>\n",
       "    </tr>\n",
       "    <tr>\n",
       "      <th>1</th>\n",
       "      <td>97.144697</td>\n",
       "      <td>69.593282</td>\n",
       "      <td>404.634472</td>\n",
       "    </tr>\n",
       "    <tr>\n",
       "      <th>2</th>\n",
       "      <td>81.775901</td>\n",
       "      <td>5.737648</td>\n",
       "      <td>181.485108</td>\n",
       "    </tr>\n",
       "    <tr>\n",
       "      <th>3</th>\n",
       "      <td>55.854342</td>\n",
       "      <td>70.325902</td>\n",
       "      <td>321.773638</td>\n",
       "    </tr>\n",
       "    <tr>\n",
       "      <th>4</th>\n",
       "      <td>49.366550</td>\n",
       "      <td>75.114040</td>\n",
       "      <td>322.465486</td>\n",
       "    </tr>\n",
       "    <tr>\n",
       "      <th>5</th>\n",
       "      <td>3.192702</td>\n",
       "      <td>29.256299</td>\n",
       "      <td>94.618811</td>\n",
       "    </tr>\n",
       "    <tr>\n",
       "      <th>6</th>\n",
       "      <td>49.200784</td>\n",
       "      <td>86.144439</td>\n",
       "      <td>356.348093</td>\n",
       "    </tr>\n",
       "    <tr>\n",
       "      <th>7</th>\n",
       "      <td>21.882804</td>\n",
       "      <td>46.841505</td>\n",
       "      <td>181.653769</td>\n",
       "    </tr>\n",
       "    <tr>\n",
       "      <th>8</th>\n",
       "      <td>79.509863</td>\n",
       "      <td>87.397356</td>\n",
       "      <td>423.557743</td>\n",
       "    </tr>\n",
       "    <tr>\n",
       "      <th>9</th>\n",
       "      <td>88.153887</td>\n",
       "      <td>65.205642</td>\n",
       "      <td>369.229245</td>\n",
       "    </tr>\n",
       "    <tr>\n",
       "      <th>10</th>\n",
       "      <td>60.743854</td>\n",
       "      <td>99.957634</td>\n",
       "      <td>427.605804</td>\n",
       "    </tr>\n",
       "    <tr>\n",
       "      <th>11</th>\n",
       "      <td>67.415582</td>\n",
       "      <td>50.368310</td>\n",
       "      <td>292.471822</td>\n",
       "    </tr>\n",
       "    <tr>\n",
       "      <th>12</th>\n",
       "      <td>48.318116</td>\n",
       "      <td>99.128953</td>\n",
       "      <td>395.529811</td>\n",
       "    </tr>\n",
       "    <tr>\n",
       "      <th>13</th>\n",
       "      <td>28.829972</td>\n",
       "      <td>87.184949</td>\n",
       "      <td>319.031348</td>\n",
       "    </tr>\n",
       "    <tr>\n",
       "      <th>14</th>\n",
       "      <td>43.853743</td>\n",
       "      <td>64.473639</td>\n",
       "      <td>287.428144</td>\n",
       "    </tr>\n",
       "    <tr>\n",
       "      <th>15</th>\n",
       "      <td>25.313694</td>\n",
       "      <td>83.545294</td>\n",
       "      <td>292.768909</td>\n",
       "    </tr>\n",
       "    <tr>\n",
       "      <th>16</th>\n",
       "      <td>10.807727</td>\n",
       "      <td>45.695569</td>\n",
       "      <td>159.663308</td>\n",
       "    </tr>\n",
       "    <tr>\n",
       "      <th>17</th>\n",
       "      <td>98.365746</td>\n",
       "      <td>82.697394</td>\n",
       "      <td>438.798964</td>\n",
       "    </tr>\n",
       "    <tr>\n",
       "      <th>18</th>\n",
       "      <td>29.146910</td>\n",
       "      <td>66.365107</td>\n",
       "      <td>250.986309</td>\n",
       "    </tr>\n",
       "    <tr>\n",
       "      <th>19</th>\n",
       "      <td>65.100302</td>\n",
       "      <td>33.353883</td>\n",
       "      <td>231.711508</td>\n",
       "    </tr>\n",
       "    <tr>\n",
       "      <th>20</th>\n",
       "      <td>24.644113</td>\n",
       "      <td>39.540053</td>\n",
       "      <td>163.398161</td>\n",
       "    </tr>\n",
       "    <tr>\n",
       "      <th>21</th>\n",
       "      <td>37.559805</td>\n",
       "      <td>1.345728</td>\n",
       "      <td>83.480155</td>\n",
       "    </tr>\n",
       "    <tr>\n",
       "      <th>22</th>\n",
       "      <td>88.164506</td>\n",
       "      <td>95.153663</td>\n",
       "      <td>466.265806</td>\n",
       "    </tr>\n",
       "    <tr>\n",
       "      <th>23</th>\n",
       "      <td>13.834621</td>\n",
       "      <td>25.494048</td>\n",
       "      <td>100.886430</td>\n",
       "    </tr>\n",
       "    <tr>\n",
       "      <th>24</th>\n",
       "      <td>64.410844</td>\n",
       "      <td>77.259838</td>\n",
       "      <td>365.641048</td>\n",
       "    </tr>\n",
       "    <tr>\n",
       "      <th>25</th>\n",
       "      <td>68.925992</td>\n",
       "      <td>97.453601</td>\n",
       "      <td>426.140015</td>\n",
       "    </tr>\n",
       "    <tr>\n",
       "      <th>26</th>\n",
       "      <td>39.488442</td>\n",
       "      <td>50.856128</td>\n",
       "      <td>235.532389</td>\n",
       "    </tr>\n",
       "    <tr>\n",
       "      <th>27</th>\n",
       "      <td>52.463178</td>\n",
       "      <td>59.776510</td>\n",
       "      <td>283.291640</td>\n",
       "    </tr>\n",
       "    <tr>\n",
       "      <th>28</th>\n",
       "      <td>48.484787</td>\n",
       "      <td>66.970354</td>\n",
       "      <td>298.581440</td>\n",
       "    </tr>\n",
       "    <tr>\n",
       "      <th>29</th>\n",
       "      <td>8.062088</td>\n",
       "      <td>98.242600</td>\n",
       "      <td>309.234109</td>\n",
       "    </tr>\n",
       "    <tr>\n",
       "      <th>...</th>\n",
       "      <td>...</td>\n",
       "      <td>...</td>\n",
       "      <td>...</td>\n",
       "    </tr>\n",
       "    <tr>\n",
       "      <th>70</th>\n",
       "      <td>30.187692</td>\n",
       "      <td>7.146539</td>\n",
       "      <td>89.539008</td>\n",
       "    </tr>\n",
       "    <tr>\n",
       "      <th>71</th>\n",
       "      <td>11.788418</td>\n",
       "      <td>51.697761</td>\n",
       "      <td>181.550683</td>\n",
       "    </tr>\n",
       "    <tr>\n",
       "      <th>72</th>\n",
       "      <td>18.292424</td>\n",
       "      <td>61.977976</td>\n",
       "      <td>224.773383</td>\n",
       "    </tr>\n",
       "    <tr>\n",
       "      <th>73</th>\n",
       "      <td>96.712668</td>\n",
       "      <td>9.029102</td>\n",
       "      <td>219.567094</td>\n",
       "    </tr>\n",
       "    <tr>\n",
       "      <th>74</th>\n",
       "      <td>31.012739</td>\n",
       "      <td>78.283382</td>\n",
       "      <td>298.490216</td>\n",
       "    </tr>\n",
       "    <tr>\n",
       "      <th>75</th>\n",
       "      <td>11.397261</td>\n",
       "      <td>61.728693</td>\n",
       "      <td>199.944045</td>\n",
       "    </tr>\n",
       "    <tr>\n",
       "      <th>76</th>\n",
       "      <td>17.392556</td>\n",
       "      <td>4.241141</td>\n",
       "      <td>43.915692</td>\n",
       "    </tr>\n",
       "    <tr>\n",
       "      <th>77</th>\n",
       "      <td>72.182694</td>\n",
       "      <td>34.539072</td>\n",
       "      <td>256.068378</td>\n",
       "    </tr>\n",
       "    <tr>\n",
       "      <th>78</th>\n",
       "      <td>73.980021</td>\n",
       "      <td>3.716493</td>\n",
       "      <td>159.372581</td>\n",
       "    </tr>\n",
       "    <tr>\n",
       "      <th>79</th>\n",
       "      <td>94.493058</td>\n",
       "      <td>88.417197</td>\n",
       "      <td>447.132704</td>\n",
       "    </tr>\n",
       "    <tr>\n",
       "      <th>80</th>\n",
       "      <td>84.562821</td>\n",
       "      <td>20.241162</td>\n",
       "      <td>233.078830</td>\n",
       "    </tr>\n",
       "    <tr>\n",
       "      <th>81</th>\n",
       "      <td>51.742474</td>\n",
       "      <td>11.009748</td>\n",
       "      <td>131.070180</td>\n",
       "    </tr>\n",
       "    <tr>\n",
       "      <th>82</th>\n",
       "      <td>53.748590</td>\n",
       "      <td>60.025102</td>\n",
       "      <td>298.814333</td>\n",
       "    </tr>\n",
       "    <tr>\n",
       "      <th>83</th>\n",
       "      <td>85.050835</td>\n",
       "      <td>95.736997</td>\n",
       "      <td>451.803523</td>\n",
       "    </tr>\n",
       "    <tr>\n",
       "      <th>84</th>\n",
       "      <td>46.777250</td>\n",
       "      <td>90.202206</td>\n",
       "      <td>368.366436</td>\n",
       "    </tr>\n",
       "    <tr>\n",
       "      <th>85</th>\n",
       "      <td>49.758434</td>\n",
       "      <td>52.834494</td>\n",
       "      <td>254.706774</td>\n",
       "    </tr>\n",
       "    <tr>\n",
       "      <th>86</th>\n",
       "      <td>24.119257</td>\n",
       "      <td>42.102811</td>\n",
       "      <td>168.308433</td>\n",
       "    </tr>\n",
       "    <tr>\n",
       "      <th>87</th>\n",
       "      <td>27.201576</td>\n",
       "      <td>29.978749</td>\n",
       "      <td>146.342260</td>\n",
       "    </tr>\n",
       "    <tr>\n",
       "      <th>88</th>\n",
       "      <td>7.009596</td>\n",
       "      <td>55.876058</td>\n",
       "      <td>176.810149</td>\n",
       "    </tr>\n",
       "    <tr>\n",
       "      <th>89</th>\n",
       "      <td>97.646950</td>\n",
       "      <td>8.147625</td>\n",
       "      <td>219.160280</td>\n",
       "    </tr>\n",
       "    <tr>\n",
       "      <th>90</th>\n",
       "      <td>1.382983</td>\n",
       "      <td>84.944087</td>\n",
       "      <td>252.905653</td>\n",
       "    </tr>\n",
       "    <tr>\n",
       "      <th>91</th>\n",
       "      <td>22.323530</td>\n",
       "      <td>27.515075</td>\n",
       "      <td>127.570479</td>\n",
       "    </tr>\n",
       "    <tr>\n",
       "      <th>92</th>\n",
       "      <td>45.045406</td>\n",
       "      <td>93.520402</td>\n",
       "      <td>375.822340</td>\n",
       "    </tr>\n",
       "    <tr>\n",
       "      <th>93</th>\n",
       "      <td>40.163991</td>\n",
       "      <td>0.161699</td>\n",
       "      <td>80.389019</td>\n",
       "    </tr>\n",
       "    <tr>\n",
       "      <th>94</th>\n",
       "      <td>53.182740</td>\n",
       "      <td>8.170316</td>\n",
       "      <td>142.718183</td>\n",
       "    </tr>\n",
       "    <tr>\n",
       "      <th>95</th>\n",
       "      <td>46.456779</td>\n",
       "      <td>82.000171</td>\n",
       "      <td>336.876154</td>\n",
       "    </tr>\n",
       "    <tr>\n",
       "      <th>96</th>\n",
       "      <td>77.130301</td>\n",
       "      <td>95.188759</td>\n",
       "      <td>438.460586</td>\n",
       "    </tr>\n",
       "    <tr>\n",
       "      <th>97</th>\n",
       "      <td>68.600608</td>\n",
       "      <td>72.571181</td>\n",
       "      <td>355.900287</td>\n",
       "    </tr>\n",
       "    <tr>\n",
       "      <th>98</th>\n",
       "      <td>41.693887</td>\n",
       "      <td>69.241126</td>\n",
       "      <td>284.834637</td>\n",
       "    </tr>\n",
       "    <tr>\n",
       "      <th>99</th>\n",
       "      <td>4.142669</td>\n",
       "      <td>52.254726</td>\n",
       "      <td>168.034401</td>\n",
       "    </tr>\n",
       "  </tbody>\n",
       "</table>\n",
       "<p>100 rows × 3 columns</p>\n",
       "</div>"
      ],
      "text/plain": [
       "            0          1           2\n",
       "0   17.930201  94.520592  320.259530\n",
       "1   97.144697  69.593282  404.634472\n",
       "2   81.775901   5.737648  181.485108\n",
       "3   55.854342  70.325902  321.773638\n",
       "4   49.366550  75.114040  322.465486\n",
       "5    3.192702  29.256299   94.618811\n",
       "6   49.200784  86.144439  356.348093\n",
       "7   21.882804  46.841505  181.653769\n",
       "8   79.509863  87.397356  423.557743\n",
       "9   88.153887  65.205642  369.229245\n",
       "10  60.743854  99.957634  427.605804\n",
       "11  67.415582  50.368310  292.471822\n",
       "12  48.318116  99.128953  395.529811\n",
       "13  28.829972  87.184949  319.031348\n",
       "14  43.853743  64.473639  287.428144\n",
       "15  25.313694  83.545294  292.768909\n",
       "16  10.807727  45.695569  159.663308\n",
       "17  98.365746  82.697394  438.798964\n",
       "18  29.146910  66.365107  250.986309\n",
       "19  65.100302  33.353883  231.711508\n",
       "20  24.644113  39.540053  163.398161\n",
       "21  37.559805   1.345728   83.480155\n",
       "22  88.164506  95.153663  466.265806\n",
       "23  13.834621  25.494048  100.886430\n",
       "24  64.410844  77.259838  365.641048\n",
       "25  68.925992  97.453601  426.140015\n",
       "26  39.488442  50.856128  235.532389\n",
       "27  52.463178  59.776510  283.291640\n",
       "28  48.484787  66.970354  298.581440\n",
       "29   8.062088  98.242600  309.234109\n",
       "..        ...        ...         ...\n",
       "70  30.187692   7.146539   89.539008\n",
       "71  11.788418  51.697761  181.550683\n",
       "72  18.292424  61.977976  224.773383\n",
       "73  96.712668   9.029102  219.567094\n",
       "74  31.012739  78.283382  298.490216\n",
       "75  11.397261  61.728693  199.944045\n",
       "76  17.392556   4.241141   43.915692\n",
       "77  72.182694  34.539072  256.068378\n",
       "78  73.980021   3.716493  159.372581\n",
       "79  94.493058  88.417197  447.132704\n",
       "80  84.562821  20.241162  233.078830\n",
       "81  51.742474  11.009748  131.070180\n",
       "82  53.748590  60.025102  298.814333\n",
       "83  85.050835  95.736997  451.803523\n",
       "84  46.777250  90.202206  368.366436\n",
       "85  49.758434  52.834494  254.706774\n",
       "86  24.119257  42.102811  168.308433\n",
       "87  27.201576  29.978749  146.342260\n",
       "88   7.009596  55.876058  176.810149\n",
       "89  97.646950   8.147625  219.160280\n",
       "90   1.382983  84.944087  252.905653\n",
       "91  22.323530  27.515075  127.570479\n",
       "92  45.045406  93.520402  375.822340\n",
       "93  40.163991   0.161699   80.389019\n",
       "94  53.182740   8.170316  142.718183\n",
       "95  46.456779  82.000171  336.876154\n",
       "96  77.130301  95.188759  438.460586\n",
       "97  68.600608  72.571181  355.900287\n",
       "98  41.693887  69.241126  284.834637\n",
       "99   4.142669  52.254726  168.034401\n",
       "\n",
       "[100 rows x 3 columns]"
      ]
     },
     "execution_count": 71,
     "metadata": {},
     "output_type": "execute_result"
    }
   ],
   "source": [
    "X"
   ]
  },
  {
   "cell_type": "code",
   "execution_count": 72,
   "metadata": {
    "collapsed": false
   },
   "outputs": [
    {
     "data": {
      "text/plain": [
       "pandas.core.frame.DataFrame"
      ]
     },
     "execution_count": 72,
     "metadata": {},
     "output_type": "execute_result"
    }
   ],
   "source": [
    "X.shape\n",
    "type(X)"
   ]
  },
  {
   "cell_type": "code",
   "execution_count": 73,
   "metadata": {
    "collapsed": false
   },
   "outputs": [
    {
     "name": "stdout",
     "output_type": "stream",
     "text": [
      "<class 'pandas.core.frame.DataFrame'>\n",
      "RangeIndex: 100 entries, 0 to 99\n",
      "Data columns (total 3 columns):\n",
      "0    100 non-null float64\n",
      "1    100 non-null float64\n",
      "2    100 non-null float64\n",
      "dtypes: float64(3)\n",
      "memory usage: 2.4 KB\n"
     ]
    }
   ],
   "source": [
    "X.info()"
   ]
  },
  {
   "cell_type": "code",
   "execution_count": 74,
   "metadata": {
    "collapsed": false
   },
   "outputs": [
    {
     "data": {
      "text/html": [
       "<div>\n",
       "<table border=\"1\" class=\"dataframe\">\n",
       "  <thead>\n",
       "    <tr style=\"text-align: right;\">\n",
       "      <th></th>\n",
       "      <th>0</th>\n",
       "      <th>1</th>\n",
       "      <th>2</th>\n",
       "    </tr>\n",
       "  </thead>\n",
       "  <tbody>\n",
       "    <tr>\n",
       "      <th>0</th>\n",
       "      <td>17.930201</td>\n",
       "      <td>94.520592</td>\n",
       "      <td>320.259530</td>\n",
       "    </tr>\n",
       "    <tr>\n",
       "      <th>1</th>\n",
       "      <td>97.144697</td>\n",
       "      <td>69.593282</td>\n",
       "      <td>404.634472</td>\n",
       "    </tr>\n",
       "    <tr>\n",
       "      <th>2</th>\n",
       "      <td>81.775901</td>\n",
       "      <td>5.737648</td>\n",
       "      <td>181.485108</td>\n",
       "    </tr>\n",
       "    <tr>\n",
       "      <th>3</th>\n",
       "      <td>55.854342</td>\n",
       "      <td>70.325902</td>\n",
       "      <td>321.773638</td>\n",
       "    </tr>\n",
       "    <tr>\n",
       "      <th>4</th>\n",
       "      <td>49.366550</td>\n",
       "      <td>75.114040</td>\n",
       "      <td>322.465486</td>\n",
       "    </tr>\n",
       "    <tr>\n",
       "      <th>5</th>\n",
       "      <td>3.192702</td>\n",
       "      <td>29.256299</td>\n",
       "      <td>94.618811</td>\n",
       "    </tr>\n",
       "    <tr>\n",
       "      <th>6</th>\n",
       "      <td>49.200784</td>\n",
       "      <td>86.144439</td>\n",
       "      <td>356.348093</td>\n",
       "    </tr>\n",
       "    <tr>\n",
       "      <th>7</th>\n",
       "      <td>21.882804</td>\n",
       "      <td>46.841505</td>\n",
       "      <td>181.653769</td>\n",
       "    </tr>\n",
       "    <tr>\n",
       "      <th>8</th>\n",
       "      <td>79.509863</td>\n",
       "      <td>87.397356</td>\n",
       "      <td>423.557743</td>\n",
       "    </tr>\n",
       "    <tr>\n",
       "      <th>9</th>\n",
       "      <td>88.153887</td>\n",
       "      <td>65.205642</td>\n",
       "      <td>369.229245</td>\n",
       "    </tr>\n",
       "  </tbody>\n",
       "</table>\n",
       "</div>"
      ],
      "text/plain": [
       "           0          1           2\n",
       "0  17.930201  94.520592  320.259530\n",
       "1  97.144697  69.593282  404.634472\n",
       "2  81.775901   5.737648  181.485108\n",
       "3  55.854342  70.325902  321.773638\n",
       "4  49.366550  75.114040  322.465486\n",
       "5   3.192702  29.256299   94.618811\n",
       "6  49.200784  86.144439  356.348093\n",
       "7  21.882804  46.841505  181.653769\n",
       "8  79.509863  87.397356  423.557743\n",
       "9  88.153887  65.205642  369.229245"
      ]
     },
     "execution_count": 74,
     "metadata": {},
     "output_type": "execute_result"
    }
   ],
   "source": [
    "X.head(10)"
   ]
  },
  {
   "cell_type": "code",
   "execution_count": 75,
   "metadata": {
    "collapsed": false
   },
   "outputs": [
    {
     "data": {
      "text/plain": [
       "0     17.930201\n",
       "1     97.144697\n",
       "2     81.775901\n",
       "3     55.854342\n",
       "4     49.366550\n",
       "5      3.192702\n",
       "6     49.200784\n",
       "7     21.882804\n",
       "8     79.509863\n",
       "9     88.153887\n",
       "10    60.743854\n",
       "11    67.415582\n",
       "12    48.318116\n",
       "13    28.829972\n",
       "14    43.853743\n",
       "15    25.313694\n",
       "16    10.807727\n",
       "17    98.365746\n",
       "18    29.146910\n",
       "19    65.100302\n",
       "20    24.644113\n",
       "21    37.559805\n",
       "22    88.164506\n",
       "23    13.834621\n",
       "24    64.410844\n",
       "25    68.925992\n",
       "26    39.488442\n",
       "27    52.463178\n",
       "28    48.484787\n",
       "29     8.062088\n",
       "        ...    \n",
       "70    30.187692\n",
       "71    11.788418\n",
       "72    18.292424\n",
       "73    96.712668\n",
       "74    31.012739\n",
       "75    11.397261\n",
       "76    17.392556\n",
       "77    72.182694\n",
       "78    73.980021\n",
       "79    94.493058\n",
       "80    84.562821\n",
       "81    51.742474\n",
       "82    53.748590\n",
       "83    85.050835\n",
       "84    46.777250\n",
       "85    49.758434\n",
       "86    24.119257\n",
       "87    27.201576\n",
       "88     7.009596\n",
       "89    97.646950\n",
       "90     1.382983\n",
       "91    22.323530\n",
       "92    45.045406\n",
       "93    40.163991\n",
       "94    53.182740\n",
       "95    46.456779\n",
       "96    77.130301\n",
       "97    68.600608\n",
       "98    41.693887\n",
       "99     4.142669\n",
       "Name: 0, dtype: float64"
      ]
     },
     "execution_count": 75,
     "metadata": {},
     "output_type": "execute_result"
    }
   ],
   "source": [
    "X[0] # Pandas returns column with name 0"
   ]
  },
  {
   "cell_type": "code",
   "execution_count": 76,
   "metadata": {
    "collapsed": false
   },
   "outputs": [
    {
     "data": {
      "text/plain": [
       "pandas.core.series.Series"
      ]
     },
     "execution_count": 76,
     "metadata": {},
     "output_type": "execute_result"
    }
   ],
   "source": [
    "type(X[0])"
   ]
  },
  {
   "cell_type": "code",
   "execution_count": 77,
   "metadata": {
    "collapsed": false
   },
   "outputs": [
    {
     "data": {
      "text/plain": [
       "0     17.930201\n",
       "1     94.520592\n",
       "2    320.259530\n",
       "Name: 0, dtype: float64"
      ]
     },
     "execution_count": 77,
     "metadata": {},
     "output_type": "execute_result"
    }
   ],
   "source": [
    "X.iloc[0] # To get row 0"
   ]
  },
  {
   "cell_type": "code",
   "execution_count": 78,
   "metadata": {
    "collapsed": false
   },
   "outputs": [
    {
     "data": {
      "text/plain": [
       "0     17.930201\n",
       "1     94.520592\n",
       "2    320.259530\n",
       "Name: 0, dtype: float64"
      ]
     },
     "execution_count": 78,
     "metadata": {},
     "output_type": "execute_result"
    }
   ],
   "source": [
    "X.ix[0] # Same"
   ]
  },
  {
   "cell_type": "code",
   "execution_count": 79,
   "metadata": {
    "collapsed": false
   },
   "outputs": [
    {
     "data": {
      "text/html": [
       "<div>\n",
       "<table border=\"1\" class=\"dataframe\">\n",
       "  <thead>\n",
       "    <tr style=\"text-align: right;\">\n",
       "      <th></th>\n",
       "      <th>0</th>\n",
       "      <th>2</th>\n",
       "    </tr>\n",
       "  </thead>\n",
       "  <tbody>\n",
       "    <tr>\n",
       "      <th>0</th>\n",
       "      <td>17.930201</td>\n",
       "      <td>320.259530</td>\n",
       "    </tr>\n",
       "    <tr>\n",
       "      <th>1</th>\n",
       "      <td>97.144697</td>\n",
       "      <td>404.634472</td>\n",
       "    </tr>\n",
       "    <tr>\n",
       "      <th>2</th>\n",
       "      <td>81.775901</td>\n",
       "      <td>181.485108</td>\n",
       "    </tr>\n",
       "    <tr>\n",
       "      <th>3</th>\n",
       "      <td>55.854342</td>\n",
       "      <td>321.773638</td>\n",
       "    </tr>\n",
       "    <tr>\n",
       "      <th>4</th>\n",
       "      <td>49.366550</td>\n",
       "      <td>322.465486</td>\n",
       "    </tr>\n",
       "    <tr>\n",
       "      <th>5</th>\n",
       "      <td>3.192702</td>\n",
       "      <td>94.618811</td>\n",
       "    </tr>\n",
       "    <tr>\n",
       "      <th>6</th>\n",
       "      <td>49.200784</td>\n",
       "      <td>356.348093</td>\n",
       "    </tr>\n",
       "    <tr>\n",
       "      <th>7</th>\n",
       "      <td>21.882804</td>\n",
       "      <td>181.653769</td>\n",
       "    </tr>\n",
       "    <tr>\n",
       "      <th>8</th>\n",
       "      <td>79.509863</td>\n",
       "      <td>423.557743</td>\n",
       "    </tr>\n",
       "    <tr>\n",
       "      <th>9</th>\n",
       "      <td>88.153887</td>\n",
       "      <td>369.229245</td>\n",
       "    </tr>\n",
       "    <tr>\n",
       "      <th>10</th>\n",
       "      <td>60.743854</td>\n",
       "      <td>427.605804</td>\n",
       "    </tr>\n",
       "    <tr>\n",
       "      <th>11</th>\n",
       "      <td>67.415582</td>\n",
       "      <td>292.471822</td>\n",
       "    </tr>\n",
       "    <tr>\n",
       "      <th>12</th>\n",
       "      <td>48.318116</td>\n",
       "      <td>395.529811</td>\n",
       "    </tr>\n",
       "    <tr>\n",
       "      <th>13</th>\n",
       "      <td>28.829972</td>\n",
       "      <td>319.031348</td>\n",
       "    </tr>\n",
       "    <tr>\n",
       "      <th>14</th>\n",
       "      <td>43.853743</td>\n",
       "      <td>287.428144</td>\n",
       "    </tr>\n",
       "    <tr>\n",
       "      <th>15</th>\n",
       "      <td>25.313694</td>\n",
       "      <td>292.768909</td>\n",
       "    </tr>\n",
       "    <tr>\n",
       "      <th>16</th>\n",
       "      <td>10.807727</td>\n",
       "      <td>159.663308</td>\n",
       "    </tr>\n",
       "    <tr>\n",
       "      <th>17</th>\n",
       "      <td>98.365746</td>\n",
       "      <td>438.798964</td>\n",
       "    </tr>\n",
       "    <tr>\n",
       "      <th>18</th>\n",
       "      <td>29.146910</td>\n",
       "      <td>250.986309</td>\n",
       "    </tr>\n",
       "    <tr>\n",
       "      <th>19</th>\n",
       "      <td>65.100302</td>\n",
       "      <td>231.711508</td>\n",
       "    </tr>\n",
       "    <tr>\n",
       "      <th>20</th>\n",
       "      <td>24.644113</td>\n",
       "      <td>163.398161</td>\n",
       "    </tr>\n",
       "    <tr>\n",
       "      <th>21</th>\n",
       "      <td>37.559805</td>\n",
       "      <td>83.480155</td>\n",
       "    </tr>\n",
       "    <tr>\n",
       "      <th>22</th>\n",
       "      <td>88.164506</td>\n",
       "      <td>466.265806</td>\n",
       "    </tr>\n",
       "    <tr>\n",
       "      <th>23</th>\n",
       "      <td>13.834621</td>\n",
       "      <td>100.886430</td>\n",
       "    </tr>\n",
       "    <tr>\n",
       "      <th>24</th>\n",
       "      <td>64.410844</td>\n",
       "      <td>365.641048</td>\n",
       "    </tr>\n",
       "    <tr>\n",
       "      <th>25</th>\n",
       "      <td>68.925992</td>\n",
       "      <td>426.140015</td>\n",
       "    </tr>\n",
       "    <tr>\n",
       "      <th>26</th>\n",
       "      <td>39.488442</td>\n",
       "      <td>235.532389</td>\n",
       "    </tr>\n",
       "    <tr>\n",
       "      <th>27</th>\n",
       "      <td>52.463178</td>\n",
       "      <td>283.291640</td>\n",
       "    </tr>\n",
       "    <tr>\n",
       "      <th>28</th>\n",
       "      <td>48.484787</td>\n",
       "      <td>298.581440</td>\n",
       "    </tr>\n",
       "    <tr>\n",
       "      <th>29</th>\n",
       "      <td>8.062088</td>\n",
       "      <td>309.234109</td>\n",
       "    </tr>\n",
       "    <tr>\n",
       "      <th>...</th>\n",
       "      <td>...</td>\n",
       "      <td>...</td>\n",
       "    </tr>\n",
       "    <tr>\n",
       "      <th>70</th>\n",
       "      <td>30.187692</td>\n",
       "      <td>89.539008</td>\n",
       "    </tr>\n",
       "    <tr>\n",
       "      <th>71</th>\n",
       "      <td>11.788418</td>\n",
       "      <td>181.550683</td>\n",
       "    </tr>\n",
       "    <tr>\n",
       "      <th>72</th>\n",
       "      <td>18.292424</td>\n",
       "      <td>224.773383</td>\n",
       "    </tr>\n",
       "    <tr>\n",
       "      <th>73</th>\n",
       "      <td>96.712668</td>\n",
       "      <td>219.567094</td>\n",
       "    </tr>\n",
       "    <tr>\n",
       "      <th>74</th>\n",
       "      <td>31.012739</td>\n",
       "      <td>298.490216</td>\n",
       "    </tr>\n",
       "    <tr>\n",
       "      <th>75</th>\n",
       "      <td>11.397261</td>\n",
       "      <td>199.944045</td>\n",
       "    </tr>\n",
       "    <tr>\n",
       "      <th>76</th>\n",
       "      <td>17.392556</td>\n",
       "      <td>43.915692</td>\n",
       "    </tr>\n",
       "    <tr>\n",
       "      <th>77</th>\n",
       "      <td>72.182694</td>\n",
       "      <td>256.068378</td>\n",
       "    </tr>\n",
       "    <tr>\n",
       "      <th>78</th>\n",
       "      <td>73.980021</td>\n",
       "      <td>159.372581</td>\n",
       "    </tr>\n",
       "    <tr>\n",
       "      <th>79</th>\n",
       "      <td>94.493058</td>\n",
       "      <td>447.132704</td>\n",
       "    </tr>\n",
       "    <tr>\n",
       "      <th>80</th>\n",
       "      <td>84.562821</td>\n",
       "      <td>233.078830</td>\n",
       "    </tr>\n",
       "    <tr>\n",
       "      <th>81</th>\n",
       "      <td>51.742474</td>\n",
       "      <td>131.070180</td>\n",
       "    </tr>\n",
       "    <tr>\n",
       "      <th>82</th>\n",
       "      <td>53.748590</td>\n",
       "      <td>298.814333</td>\n",
       "    </tr>\n",
       "    <tr>\n",
       "      <th>83</th>\n",
       "      <td>85.050835</td>\n",
       "      <td>451.803523</td>\n",
       "    </tr>\n",
       "    <tr>\n",
       "      <th>84</th>\n",
       "      <td>46.777250</td>\n",
       "      <td>368.366436</td>\n",
       "    </tr>\n",
       "    <tr>\n",
       "      <th>85</th>\n",
       "      <td>49.758434</td>\n",
       "      <td>254.706774</td>\n",
       "    </tr>\n",
       "    <tr>\n",
       "      <th>86</th>\n",
       "      <td>24.119257</td>\n",
       "      <td>168.308433</td>\n",
       "    </tr>\n",
       "    <tr>\n",
       "      <th>87</th>\n",
       "      <td>27.201576</td>\n",
       "      <td>146.342260</td>\n",
       "    </tr>\n",
       "    <tr>\n",
       "      <th>88</th>\n",
       "      <td>7.009596</td>\n",
       "      <td>176.810149</td>\n",
       "    </tr>\n",
       "    <tr>\n",
       "      <th>89</th>\n",
       "      <td>97.646950</td>\n",
       "      <td>219.160280</td>\n",
       "    </tr>\n",
       "    <tr>\n",
       "      <th>90</th>\n",
       "      <td>1.382983</td>\n",
       "      <td>252.905653</td>\n",
       "    </tr>\n",
       "    <tr>\n",
       "      <th>91</th>\n",
       "      <td>22.323530</td>\n",
       "      <td>127.570479</td>\n",
       "    </tr>\n",
       "    <tr>\n",
       "      <th>92</th>\n",
       "      <td>45.045406</td>\n",
       "      <td>375.822340</td>\n",
       "    </tr>\n",
       "    <tr>\n",
       "      <th>93</th>\n",
       "      <td>40.163991</td>\n",
       "      <td>80.389019</td>\n",
       "    </tr>\n",
       "    <tr>\n",
       "      <th>94</th>\n",
       "      <td>53.182740</td>\n",
       "      <td>142.718183</td>\n",
       "    </tr>\n",
       "    <tr>\n",
       "      <th>95</th>\n",
       "      <td>46.456779</td>\n",
       "      <td>336.876154</td>\n",
       "    </tr>\n",
       "    <tr>\n",
       "      <th>96</th>\n",
       "      <td>77.130301</td>\n",
       "      <td>438.460586</td>\n",
       "    </tr>\n",
       "    <tr>\n",
       "      <th>97</th>\n",
       "      <td>68.600608</td>\n",
       "      <td>355.900287</td>\n",
       "    </tr>\n",
       "    <tr>\n",
       "      <th>98</th>\n",
       "      <td>41.693887</td>\n",
       "      <td>284.834637</td>\n",
       "    </tr>\n",
       "    <tr>\n",
       "      <th>99</th>\n",
       "      <td>4.142669</td>\n",
       "      <td>168.034401</td>\n",
       "    </tr>\n",
       "  </tbody>\n",
       "</table>\n",
       "<p>100 rows × 2 columns</p>\n",
       "</div>"
      ],
      "text/plain": [
       "            0           2\n",
       "0   17.930201  320.259530\n",
       "1   97.144697  404.634472\n",
       "2   81.775901  181.485108\n",
       "3   55.854342  321.773638\n",
       "4   49.366550  322.465486\n",
       "5    3.192702   94.618811\n",
       "6   49.200784  356.348093\n",
       "7   21.882804  181.653769\n",
       "8   79.509863  423.557743\n",
       "9   88.153887  369.229245\n",
       "10  60.743854  427.605804\n",
       "11  67.415582  292.471822\n",
       "12  48.318116  395.529811\n",
       "13  28.829972  319.031348\n",
       "14  43.853743  287.428144\n",
       "15  25.313694  292.768909\n",
       "16  10.807727  159.663308\n",
       "17  98.365746  438.798964\n",
       "18  29.146910  250.986309\n",
       "19  65.100302  231.711508\n",
       "20  24.644113  163.398161\n",
       "21  37.559805   83.480155\n",
       "22  88.164506  466.265806\n",
       "23  13.834621  100.886430\n",
       "24  64.410844  365.641048\n",
       "25  68.925992  426.140015\n",
       "26  39.488442  235.532389\n",
       "27  52.463178  283.291640\n",
       "28  48.484787  298.581440\n",
       "29   8.062088  309.234109\n",
       "..        ...         ...\n",
       "70  30.187692   89.539008\n",
       "71  11.788418  181.550683\n",
       "72  18.292424  224.773383\n",
       "73  96.712668  219.567094\n",
       "74  31.012739  298.490216\n",
       "75  11.397261  199.944045\n",
       "76  17.392556   43.915692\n",
       "77  72.182694  256.068378\n",
       "78  73.980021  159.372581\n",
       "79  94.493058  447.132704\n",
       "80  84.562821  233.078830\n",
       "81  51.742474  131.070180\n",
       "82  53.748590  298.814333\n",
       "83  85.050835  451.803523\n",
       "84  46.777250  368.366436\n",
       "85  49.758434  254.706774\n",
       "86  24.119257  168.308433\n",
       "87  27.201576  146.342260\n",
       "88   7.009596  176.810149\n",
       "89  97.646950  219.160280\n",
       "90   1.382983  252.905653\n",
       "91  22.323530  127.570479\n",
       "92  45.045406  375.822340\n",
       "93  40.163991   80.389019\n",
       "94  53.182740  142.718183\n",
       "95  46.456779  336.876154\n",
       "96  77.130301  438.460586\n",
       "97  68.600608  355.900287\n",
       "98  41.693887  284.834637\n",
       "99   4.142669  168.034401\n",
       "\n",
       "[100 rows x 2 columns]"
      ]
     },
     "execution_count": 79,
     "metadata": {},
     "output_type": "execute_result"
    }
   ],
   "source": [
    "X[[0, 2]]"
   ]
  },
  {
   "cell_type": "code",
   "execution_count": 80,
   "metadata": {
    "collapsed": false
   },
   "outputs": [
    {
     "data": {
      "text/html": [
       "<div>\n",
       "<table border=\"1\" class=\"dataframe\">\n",
       "  <thead>\n",
       "    <tr style=\"text-align: right;\">\n",
       "      <th></th>\n",
       "      <th>0</th>\n",
       "      <th>1</th>\n",
       "      <th>2</th>\n",
       "    </tr>\n",
       "  </thead>\n",
       "  <tbody>\n",
       "    <tr>\n",
       "      <th>5</th>\n",
       "      <td>3.192702</td>\n",
       "      <td>29.256299</td>\n",
       "      <td>94.618811</td>\n",
       "    </tr>\n",
       "    <tr>\n",
       "      <th>44</th>\n",
       "      <td>3.593966</td>\n",
       "      <td>96.252217</td>\n",
       "      <td>293.237183</td>\n",
       "    </tr>\n",
       "    <tr>\n",
       "      <th>54</th>\n",
       "      <td>4.593463</td>\n",
       "      <td>46.335932</td>\n",
       "      <td>145.818745</td>\n",
       "    </tr>\n",
       "    <tr>\n",
       "      <th>90</th>\n",
       "      <td>1.382983</td>\n",
       "      <td>84.944087</td>\n",
       "      <td>252.905653</td>\n",
       "    </tr>\n",
       "    <tr>\n",
       "      <th>99</th>\n",
       "      <td>4.142669</td>\n",
       "      <td>52.254726</td>\n",
       "      <td>168.034401</td>\n",
       "    </tr>\n",
       "  </tbody>\n",
       "</table>\n",
       "</div>"
      ],
      "text/plain": [
       "           0          1           2\n",
       "5   3.192702  29.256299   94.618811\n",
       "44  3.593966  96.252217  293.237183\n",
       "54  4.593463  46.335932  145.818745\n",
       "90  1.382983  84.944087  252.905653\n",
       "99  4.142669  52.254726  168.034401"
      ]
     },
     "execution_count": 80,
     "metadata": {},
     "output_type": "execute_result"
    }
   ],
   "source": [
    "X[X[0] < 5]"
   ]
  },
  {
   "cell_type": "code",
   "execution_count": 81,
   "metadata": {
    "collapsed": false
   },
   "outputs": [
    {
     "data": {
      "text/plain": [
       "pandas.core.series.Series"
      ]
     },
     "execution_count": 81,
     "metadata": {},
     "output_type": "execute_result"
    }
   ],
   "source": [
    "type(X[0] < 5)"
   ]
  },
  {
   "cell_type": "code",
   "execution_count": 82,
   "metadata": {
    "collapsed": false
   },
   "outputs": [
    {
     "data": {
      "text/plain": [
       "numpy.ndarray"
      ]
     },
     "execution_count": 82,
     "metadata": {},
     "output_type": "execute_result"
    }
   ],
   "source": [
    "M = X.as_matrix() # Still return an ndarray\n",
    "type(M)"
   ]
  },
  {
   "cell_type": "code",
   "execution_count": 83,
   "metadata": {
    "collapsed": false
   },
   "outputs": [
    {
     "data": {
      "text/html": [
       "<div>\n",
       "<table border=\"1\" class=\"dataframe\">\n",
       "  <thead>\n",
       "    <tr style=\"text-align: right;\">\n",
       "      <th></th>\n",
       "      <th>0</th>\n",
       "      <th>1</th>\n",
       "      <th>2</th>\n",
       "    </tr>\n",
       "  </thead>\n",
       "  <tbody>\n",
       "    <tr>\n",
       "      <th>0</th>\n",
       "      <td>17.930201</td>\n",
       "      <td>94.520592</td>\n",
       "      <td>320.259530</td>\n",
       "    </tr>\n",
       "    <tr>\n",
       "      <th>1</th>\n",
       "      <td>97.144697</td>\n",
       "      <td>69.593282</td>\n",
       "      <td>404.634472</td>\n",
       "    </tr>\n",
       "    <tr>\n",
       "      <th>2</th>\n",
       "      <td>81.775901</td>\n",
       "      <td>5.737648</td>\n",
       "      <td>181.485108</td>\n",
       "    </tr>\n",
       "    <tr>\n",
       "      <th>3</th>\n",
       "      <td>55.854342</td>\n",
       "      <td>70.325902</td>\n",
       "      <td>321.773638</td>\n",
       "    </tr>\n",
       "    <tr>\n",
       "      <th>4</th>\n",
       "      <td>49.366550</td>\n",
       "      <td>75.114040</td>\n",
       "      <td>322.465486</td>\n",
       "    </tr>\n",
       "  </tbody>\n",
       "</table>\n",
       "</div>"
      ],
      "text/plain": [
       "           0          1           2\n",
       "0  17.930201  94.520592  320.259530\n",
       "1  97.144697  69.593282  404.634472\n",
       "2  81.775901   5.737648  181.485108\n",
       "3  55.854342  70.325902  321.773638\n",
       "4  49.366550  75.114040  322.465486"
      ]
     },
     "execution_count": 83,
     "metadata": {},
     "output_type": "execute_result"
    }
   ],
   "source": [
    "X.head(5)"
   ]
  },
  {
   "cell_type": "markdown",
   "metadata": {},
   "source": [
    "## Dealing with csv file having ugly headers, redundant footers"
   ]
  },
  {
   "cell_type": "code",
   "execution_count": 84,
   "metadata": {
    "collapsed": true
   },
   "outputs": [],
   "source": [
    "csv_file = \"Datasets/international-airline-passengers.csv\""
   ]
  },
  {
   "cell_type": "code",
   "execution_count": 85,
   "metadata": {
    "collapsed": true
   },
   "outputs": [],
   "source": [
    "import pandas as pd"
   ]
  },
  {
   "cell_type": "code",
   "execution_count": 86,
   "metadata": {
    "collapsed": true
   },
   "outputs": [],
   "source": [
    "df = pd.read_csv(csv_file, engine=\"python\", skipfooter=3)"
   ]
  },
  {
   "cell_type": "markdown",
   "metadata": {},
   "source": [
    "### Explain\n",
    "skipfooter = 3 : Remove the last 3 rows\n",
    "engine=\"python\": skipfooter cannot work with default engine"
   ]
  },
  {
   "cell_type": "code",
   "execution_count": 87,
   "metadata": {
    "collapsed": false
   },
   "outputs": [
    {
     "data": {
      "text/plain": [
       "Index([u'Month', u'International airline passengers: monthly totals in thousands. Jan 49 ? Dec 60'], dtype='object')"
      ]
     },
     "execution_count": 87,
     "metadata": {},
     "output_type": "execute_result"
    }
   ],
   "source": [
    "df.columns"
   ]
  },
  {
   "cell_type": "code",
   "execution_count": 88,
   "metadata": {
    "collapsed": true
   },
   "outputs": [],
   "source": [
    "df.columns = [\"month\", \"passengers\"]"
   ]
  },
  {
   "cell_type": "code",
   "execution_count": 89,
   "metadata": {
    "collapsed": false
   },
   "outputs": [
    {
     "data": {
      "text/plain": [
       "Index([u'month', u'passengers'], dtype='object')"
      ]
     },
     "execution_count": 89,
     "metadata": {},
     "output_type": "execute_result"
    }
   ],
   "source": [
    "df.columns"
   ]
  },
  {
   "cell_type": "code",
   "execution_count": 90,
   "metadata": {
    "collapsed": false
   },
   "outputs": [
    {
     "data": {
      "text/plain": [
       "0      112\n",
       "1      118\n",
       "2      132\n",
       "3      129\n",
       "4      121\n",
       "5      135\n",
       "6      148\n",
       "7      148\n",
       "8      136\n",
       "9      119\n",
       "10     104\n",
       "11     118\n",
       "12     115\n",
       "13     126\n",
       "14     141\n",
       "15     135\n",
       "16     125\n",
       "17     149\n",
       "18     170\n",
       "19     170\n",
       "20     158\n",
       "21     133\n",
       "22     114\n",
       "23     140\n",
       "24     145\n",
       "25     150\n",
       "26     178\n",
       "27     163\n",
       "28     172\n",
       "29     178\n",
       "      ... \n",
       "114    491\n",
       "115    505\n",
       "116    404\n",
       "117    359\n",
       "118    310\n",
       "119    337\n",
       "120    360\n",
       "121    342\n",
       "122    406\n",
       "123    396\n",
       "124    420\n",
       "125    472\n",
       "126    548\n",
       "127    559\n",
       "128    463\n",
       "129    407\n",
       "130    362\n",
       "131    405\n",
       "132    417\n",
       "133    391\n",
       "134    419\n",
       "135    461\n",
       "136    472\n",
       "137    535\n",
       "138    622\n",
       "139    606\n",
       "140    508\n",
       "141    461\n",
       "142    390\n",
       "143    432\n",
       "Name: passengers, dtype: int64"
      ]
     },
     "execution_count": 90,
     "metadata": {},
     "output_type": "execute_result"
    }
   ],
   "source": [
    "df['passengers']"
   ]
  },
  {
   "cell_type": "code",
   "execution_count": 91,
   "metadata": {
    "collapsed": false
   },
   "outputs": [
    {
     "data": {
      "text/plain": [
       "0      112\n",
       "1      118\n",
       "2      132\n",
       "3      129\n",
       "4      121\n",
       "5      135\n",
       "6      148\n",
       "7      148\n",
       "8      136\n",
       "9      119\n",
       "10     104\n",
       "11     118\n",
       "12     115\n",
       "13     126\n",
       "14     141\n",
       "15     135\n",
       "16     125\n",
       "17     149\n",
       "18     170\n",
       "19     170\n",
       "20     158\n",
       "21     133\n",
       "22     114\n",
       "23     140\n",
       "24     145\n",
       "25     150\n",
       "26     178\n",
       "27     163\n",
       "28     172\n",
       "29     178\n",
       "      ... \n",
       "114    491\n",
       "115    505\n",
       "116    404\n",
       "117    359\n",
       "118    310\n",
       "119    337\n",
       "120    360\n",
       "121    342\n",
       "122    406\n",
       "123    396\n",
       "124    420\n",
       "125    472\n",
       "126    548\n",
       "127    559\n",
       "128    463\n",
       "129    407\n",
       "130    362\n",
       "131    405\n",
       "132    417\n",
       "133    391\n",
       "134    419\n",
       "135    461\n",
       "136    472\n",
       "137    535\n",
       "138    622\n",
       "139    606\n",
       "140    508\n",
       "141    461\n",
       "142    390\n",
       "143    432\n",
       "Name: passengers, dtype: int64"
      ]
     },
     "execution_count": 91,
     "metadata": {},
     "output_type": "execute_result"
    }
   ],
   "source": [
    "df.passengers"
   ]
  },
  {
   "cell_type": "code",
   "execution_count": 92,
   "metadata": {
    "collapsed": true
   },
   "outputs": [],
   "source": [
    "df['ones'] = 1"
   ]
  },
  {
   "cell_type": "code",
   "execution_count": 94,
   "metadata": {
    "collapsed": false
   },
   "outputs": [
    {
     "data": {
      "text/html": [
       "<div>\n",
       "<table border=\"1\" class=\"dataframe\">\n",
       "  <thead>\n",
       "    <tr style=\"text-align: right;\">\n",
       "      <th></th>\n",
       "      <th>month</th>\n",
       "      <th>passengers</th>\n",
       "      <th>ones</th>\n",
       "    </tr>\n",
       "  </thead>\n",
       "  <tbody>\n",
       "    <tr>\n",
       "      <th>0</th>\n",
       "      <td>1949-01</td>\n",
       "      <td>112</td>\n",
       "      <td>1</td>\n",
       "    </tr>\n",
       "    <tr>\n",
       "      <th>1</th>\n",
       "      <td>1949-02</td>\n",
       "      <td>118</td>\n",
       "      <td>1</td>\n",
       "    </tr>\n",
       "    <tr>\n",
       "      <th>2</th>\n",
       "      <td>1949-03</td>\n",
       "      <td>132</td>\n",
       "      <td>1</td>\n",
       "    </tr>\n",
       "    <tr>\n",
       "      <th>3</th>\n",
       "      <td>1949-04</td>\n",
       "      <td>129</td>\n",
       "      <td>1</td>\n",
       "    </tr>\n",
       "    <tr>\n",
       "      <th>4</th>\n",
       "      <td>1949-05</td>\n",
       "      <td>121</td>\n",
       "      <td>1</td>\n",
       "    </tr>\n",
       "  </tbody>\n",
       "</table>\n",
       "</div>"
      ],
      "text/plain": [
       "     month  passengers  ones\n",
       "0  1949-01         112     1\n",
       "1  1949-02         118     1\n",
       "2  1949-03         132     1\n",
       "3  1949-04         129     1\n",
       "4  1949-05         121     1"
      ]
     },
     "execution_count": 94,
     "metadata": {},
     "output_type": "execute_result"
    }
   ],
   "source": [
    "df.head()"
   ]
  },
  {
   "cell_type": "markdown",
   "metadata": {},
   "source": [
    "### How to use Apply function\n"
   ]
  },
  {
   "cell_type": "code",
   "execution_count": 95,
   "metadata": {
    "collapsed": true
   },
   "outputs": [],
   "source": [
    "from datetime import datetime"
   ]
  },
  {
   "cell_type": "code",
   "execution_count": 96,
   "metadata": {
    "collapsed": false
   },
   "outputs": [
    {
     "data": {
      "text/plain": [
       "datetime.datetime(1949, 5, 1, 0, 0)"
      ]
     },
     "execution_count": 96,
     "metadata": {},
     "output_type": "execute_result"
    }
   ],
   "source": [
    "datetime.strptime(\"1949-05\", \"%Y-%m\")"
   ]
  },
  {
   "cell_type": "code",
   "execution_count": 97,
   "metadata": {
    "collapsed": true
   },
   "outputs": [],
   "source": [
    "df['dt'] = df.apply(lambda row: datetime.strptime(row['month'],\n",
    "                                                 \"%Y-%m\"), axis=1)"
   ]
  },
  {
   "cell_type": "code",
   "execution_count": 98,
   "metadata": {
    "collapsed": false
   },
   "outputs": [
    {
     "data": {
      "text/html": [
       "<div>\n",
       "<table border=\"1\" class=\"dataframe\">\n",
       "  <thead>\n",
       "    <tr style=\"text-align: right;\">\n",
       "      <th></th>\n",
       "      <th>month</th>\n",
       "      <th>passengers</th>\n",
       "      <th>ones</th>\n",
       "      <th>dt</th>\n",
       "    </tr>\n",
       "  </thead>\n",
       "  <tbody>\n",
       "    <tr>\n",
       "      <th>0</th>\n",
       "      <td>1949-01</td>\n",
       "      <td>112</td>\n",
       "      <td>1</td>\n",
       "      <td>1949-01-01</td>\n",
       "    </tr>\n",
       "    <tr>\n",
       "      <th>1</th>\n",
       "      <td>1949-02</td>\n",
       "      <td>118</td>\n",
       "      <td>1</td>\n",
       "      <td>1949-02-01</td>\n",
       "    </tr>\n",
       "    <tr>\n",
       "      <th>2</th>\n",
       "      <td>1949-03</td>\n",
       "      <td>132</td>\n",
       "      <td>1</td>\n",
       "      <td>1949-03-01</td>\n",
       "    </tr>\n",
       "    <tr>\n",
       "      <th>3</th>\n",
       "      <td>1949-04</td>\n",
       "      <td>129</td>\n",
       "      <td>1</td>\n",
       "      <td>1949-04-01</td>\n",
       "    </tr>\n",
       "    <tr>\n",
       "      <th>4</th>\n",
       "      <td>1949-05</td>\n",
       "      <td>121</td>\n",
       "      <td>1</td>\n",
       "      <td>1949-05-01</td>\n",
       "    </tr>\n",
       "  </tbody>\n",
       "</table>\n",
       "</div>"
      ],
      "text/plain": [
       "     month  passengers  ones         dt\n",
       "0  1949-01         112     1 1949-01-01\n",
       "1  1949-02         118     1 1949-02-01\n",
       "2  1949-03         132     1 1949-03-01\n",
       "3  1949-04         129     1 1949-04-01\n",
       "4  1949-05         121     1 1949-05-01"
      ]
     },
     "execution_count": 98,
     "metadata": {},
     "output_type": "execute_result"
    }
   ],
   "source": [
    "df.head()"
   ]
  },
  {
   "cell_type": "code",
   "execution_count": 99,
   "metadata": {
    "collapsed": false
   },
   "outputs": [
    {
     "name": "stdout",
     "output_type": "stream",
     "text": [
      "<class 'pandas.core.frame.DataFrame'>\n",
      "RangeIndex: 144 entries, 0 to 143\n",
      "Data columns (total 4 columns):\n",
      "month         144 non-null object\n",
      "passengers    144 non-null int64\n",
      "ones          144 non-null int64\n",
      "dt            144 non-null datetime64[ns]\n",
      "dtypes: datetime64[ns](1), int64(2), object(1)\n",
      "memory usage: 4.6+ KB\n"
     ]
    }
   ],
   "source": [
    "df.info()"
   ]
  },
  {
   "cell_type": "code",
   "execution_count": 100,
   "metadata": {
    "collapsed": true
   },
   "outputs": [],
   "source": [
    "t1 = pd.read_csv('Datasets/table1.csv')\n",
    "t2 = pd.read_csv('Datasets/table2.csv')"
   ]
  },
  {
   "cell_type": "code",
   "execution_count": 101,
   "metadata": {
    "collapsed": true
   },
   "outputs": [],
   "source": [
    "m = pd.merge(t1, t2, on='user_id')"
   ]
  },
  {
   "cell_type": "code",
   "execution_count": 102,
   "metadata": {
    "collapsed": false
   },
   "outputs": [
    {
     "data": {
      "text/html": [
       "<div>\n",
       "<table border=\"1\" class=\"dataframe\">\n",
       "  <thead>\n",
       "    <tr style=\"text-align: right;\">\n",
       "      <th></th>\n",
       "      <th>user_id</th>\n",
       "      <th>email</th>\n",
       "      <th>age</th>\n",
       "      <th>ad_id</th>\n",
       "      <th>click</th>\n",
       "    </tr>\n",
       "  </thead>\n",
       "  <tbody>\n",
       "    <tr>\n",
       "      <th>0</th>\n",
       "      <td>1</td>\n",
       "      <td>alice@gmail.com</td>\n",
       "      <td>20</td>\n",
       "      <td>1</td>\n",
       "      <td>1</td>\n",
       "    </tr>\n",
       "    <tr>\n",
       "      <th>1</th>\n",
       "      <td>1</td>\n",
       "      <td>alice@gmail.com</td>\n",
       "      <td>20</td>\n",
       "      <td>2</td>\n",
       "      <td>0</td>\n",
       "    </tr>\n",
       "    <tr>\n",
       "      <th>2</th>\n",
       "      <td>1</td>\n",
       "      <td>alice@gmail.com</td>\n",
       "      <td>20</td>\n",
       "      <td>5</td>\n",
       "      <td>0</td>\n",
       "    </tr>\n",
       "    <tr>\n",
       "      <th>3</th>\n",
       "      <td>2</td>\n",
       "      <td>bob@gmail.com</td>\n",
       "      <td>25</td>\n",
       "      <td>3</td>\n",
       "      <td>0</td>\n",
       "    </tr>\n",
       "    <tr>\n",
       "      <th>4</th>\n",
       "      <td>2</td>\n",
       "      <td>bob@gmail.com</td>\n",
       "      <td>25</td>\n",
       "      <td>4</td>\n",
       "      <td>1</td>\n",
       "    </tr>\n",
       "    <tr>\n",
       "      <th>5</th>\n",
       "      <td>2</td>\n",
       "      <td>bob@gmail.com</td>\n",
       "      <td>25</td>\n",
       "      <td>1</td>\n",
       "      <td>0</td>\n",
       "    </tr>\n",
       "    <tr>\n",
       "      <th>6</th>\n",
       "      <td>3</td>\n",
       "      <td>carol@gmail.com</td>\n",
       "      <td>30</td>\n",
       "      <td>2</td>\n",
       "      <td>0</td>\n",
       "    </tr>\n",
       "    <tr>\n",
       "      <th>7</th>\n",
       "      <td>3</td>\n",
       "      <td>carol@gmail.com</td>\n",
       "      <td>30</td>\n",
       "      <td>1</td>\n",
       "      <td>0</td>\n",
       "    </tr>\n",
       "    <tr>\n",
       "      <th>8</th>\n",
       "      <td>3</td>\n",
       "      <td>carol@gmail.com</td>\n",
       "      <td>30</td>\n",
       "      <td>3</td>\n",
       "      <td>0</td>\n",
       "    </tr>\n",
       "    <tr>\n",
       "      <th>9</th>\n",
       "      <td>3</td>\n",
       "      <td>carol@gmail.com</td>\n",
       "      <td>30</td>\n",
       "      <td>4</td>\n",
       "      <td>0</td>\n",
       "    </tr>\n",
       "    <tr>\n",
       "      <th>10</th>\n",
       "      <td>3</td>\n",
       "      <td>carol@gmail.com</td>\n",
       "      <td>30</td>\n",
       "      <td>5</td>\n",
       "      <td>1</td>\n",
       "    </tr>\n",
       "  </tbody>\n",
       "</table>\n",
       "</div>"
      ],
      "text/plain": [
       "    user_id            email  age  ad_id  click\n",
       "0         1  alice@gmail.com   20      1      1\n",
       "1         1  alice@gmail.com   20      2      0\n",
       "2         1  alice@gmail.com   20      5      0\n",
       "3         2    bob@gmail.com   25      3      0\n",
       "4         2    bob@gmail.com   25      4      1\n",
       "5         2    bob@gmail.com   25      1      0\n",
       "6         3  carol@gmail.com   30      2      0\n",
       "7         3  carol@gmail.com   30      1      0\n",
       "8         3  carol@gmail.com   30      3      0\n",
       "9         3  carol@gmail.com   30      4      0\n",
       "10        3  carol@gmail.com   30      5      1"
      ]
     },
     "execution_count": 102,
     "metadata": {},
     "output_type": "execute_result"
    }
   ],
   "source": [
    "m"
   ]
  },
  {
   "cell_type": "code",
   "execution_count": 103,
   "metadata": {
    "collapsed": false
   },
   "outputs": [
    {
     "data": {
      "text/html": [
       "<div>\n",
       "<table border=\"1\" class=\"dataframe\">\n",
       "  <thead>\n",
       "    <tr style=\"text-align: right;\">\n",
       "      <th></th>\n",
       "      <th>user_id</th>\n",
       "      <th>email</th>\n",
       "      <th>age</th>\n",
       "      <th>ad_id</th>\n",
       "      <th>click</th>\n",
       "    </tr>\n",
       "  </thead>\n",
       "  <tbody>\n",
       "    <tr>\n",
       "      <th>0</th>\n",
       "      <td>1</td>\n",
       "      <td>alice@gmail.com</td>\n",
       "      <td>20</td>\n",
       "      <td>1</td>\n",
       "      <td>1</td>\n",
       "    </tr>\n",
       "    <tr>\n",
       "      <th>1</th>\n",
       "      <td>1</td>\n",
       "      <td>alice@gmail.com</td>\n",
       "      <td>20</td>\n",
       "      <td>2</td>\n",
       "      <td>0</td>\n",
       "    </tr>\n",
       "    <tr>\n",
       "      <th>2</th>\n",
       "      <td>1</td>\n",
       "      <td>alice@gmail.com</td>\n",
       "      <td>20</td>\n",
       "      <td>5</td>\n",
       "      <td>0</td>\n",
       "    </tr>\n",
       "    <tr>\n",
       "      <th>3</th>\n",
       "      <td>2</td>\n",
       "      <td>bob@gmail.com</td>\n",
       "      <td>25</td>\n",
       "      <td>3</td>\n",
       "      <td>0</td>\n",
       "    </tr>\n",
       "    <tr>\n",
       "      <th>4</th>\n",
       "      <td>2</td>\n",
       "      <td>bob@gmail.com</td>\n",
       "      <td>25</td>\n",
       "      <td>4</td>\n",
       "      <td>1</td>\n",
       "    </tr>\n",
       "    <tr>\n",
       "      <th>5</th>\n",
       "      <td>2</td>\n",
       "      <td>bob@gmail.com</td>\n",
       "      <td>25</td>\n",
       "      <td>1</td>\n",
       "      <td>0</td>\n",
       "    </tr>\n",
       "    <tr>\n",
       "      <th>6</th>\n",
       "      <td>3</td>\n",
       "      <td>carol@gmail.com</td>\n",
       "      <td>30</td>\n",
       "      <td>2</td>\n",
       "      <td>0</td>\n",
       "    </tr>\n",
       "    <tr>\n",
       "      <th>7</th>\n",
       "      <td>3</td>\n",
       "      <td>carol@gmail.com</td>\n",
       "      <td>30</td>\n",
       "      <td>1</td>\n",
       "      <td>0</td>\n",
       "    </tr>\n",
       "    <tr>\n",
       "      <th>8</th>\n",
       "      <td>3</td>\n",
       "      <td>carol@gmail.com</td>\n",
       "      <td>30</td>\n",
       "      <td>3</td>\n",
       "      <td>0</td>\n",
       "    </tr>\n",
       "    <tr>\n",
       "      <th>9</th>\n",
       "      <td>3</td>\n",
       "      <td>carol@gmail.com</td>\n",
       "      <td>30</td>\n",
       "      <td>4</td>\n",
       "      <td>0</td>\n",
       "    </tr>\n",
       "    <tr>\n",
       "      <th>10</th>\n",
       "      <td>3</td>\n",
       "      <td>carol@gmail.com</td>\n",
       "      <td>30</td>\n",
       "      <td>5</td>\n",
       "      <td>1</td>\n",
       "    </tr>\n",
       "  </tbody>\n",
       "</table>\n",
       "</div>"
      ],
      "text/plain": [
       "    user_id            email  age  ad_id  click\n",
       "0         1  alice@gmail.com   20      1      1\n",
       "1         1  alice@gmail.com   20      2      0\n",
       "2         1  alice@gmail.com   20      5      0\n",
       "3         2    bob@gmail.com   25      3      0\n",
       "4         2    bob@gmail.com   25      4      1\n",
       "5         2    bob@gmail.com   25      1      0\n",
       "6         3  carol@gmail.com   30      2      0\n",
       "7         3  carol@gmail.com   30      1      0\n",
       "8         3  carol@gmail.com   30      3      0\n",
       "9         3  carol@gmail.com   30      4      0\n",
       "10        3  carol@gmail.com   30      5      1"
      ]
     },
     "execution_count": 103,
     "metadata": {},
     "output_type": "execute_result"
    }
   ],
   "source": [
    "t1.merge(t2, on=\"user_id\")"
   ]
  },
  {
   "cell_type": "code",
   "execution_count": null,
   "metadata": {
    "collapsed": true
   },
   "outputs": [],
   "source": []
  }
 ],
 "metadata": {
  "kernelspec": {
   "display_name": "Python [Root]",
   "language": "python",
   "name": "Python [Root]"
  },
  "language_info": {
   "codemirror_mode": {
    "name": "ipython",
    "version": 2
   },
   "file_extension": ".py",
   "mimetype": "text/x-python",
   "name": "python",
   "nbconvert_exporter": "python",
   "pygments_lexer": "ipython2",
   "version": "2.7.12"
  }
 },
 "nbformat": 4,
 "nbformat_minor": 0
}
