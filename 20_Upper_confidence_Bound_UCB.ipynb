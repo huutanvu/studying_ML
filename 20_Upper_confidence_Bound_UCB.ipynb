{
 "cells": [
  {
   "cell_type": "markdown",
   "metadata": {},
   "source": [
    "## Reinforcement Learning\n",
    "- Reinforcement Learning is a branch of Machine Learning, also called Online Learning. It is used to solve interacting problems where the data observed up to time **t** is considered to decide which action to take at time **t + 1**. It is also used for Artificial Intelligence when training machines to perform tasks such as walking. Desired outcomes provide the AI with reward, undesired with punishment. Machines learn through **trial and error**.\n",
    "\n",
    "- In this part, you will understand and learn how to implement the following Reinforcement Learning models:\n",
    "\n",
    "    1. Upper Confidence Bound (UCB)\n",
    "    2. Thompson Sampling"
   ]
  },
  {
   "cell_type": "code",
   "execution_count": 1,
   "metadata": {
    "collapsed": true
   },
   "outputs": [],
   "source": [
    "import os, sys\n",
    "\n",
    "sys.path.append(os.path.abspath(\"Datasets\"))\n",
    "sys.path.append(os.path.abspath(\"Images\"))"
   ]
  },
  {
   "cell_type": "markdown",
   "metadata": {},
   "source": [
    "### The Multi-Armed Bandit Problem\n",
    "- 1 Arm bandit: the slot machine! Bandit: quick way to lose money.\n",
    "- Multi-Arm bandit: it's like 1 person have to deal with a set of many slot machines with only 1 hand. Historic problem. \n",
    "<img src=\"Images/16_1_problem.JPG\" height=\"300\">\n",
    "- **Problem**: Which one to play if you want to maximize your returns! \n",
    "- Each one of these machines has a distribution of outcomes out of which the machine pick result. You pull the trigger, it will randomly give out a result. \n",
    "- We don't know the distribution, and it's assumed that it's different from each other. So, which one is the best one?\n",
    "<img src=\"Images/16_1_problem_2.JPG\" height=\"300\">\n",
    "- The most right is the best because it got the best tail on the left. So, bet on the D5 all the time.\n",
    "- But we don't know it, so you have to play mind games, how can you analyze it?\n",
    "- So we need to explore the machine, and then exploiting the finding to get the maximum return.\n",
    "- Real life example:\n",
    "<img src=\"Images/16_1_coke.JPG\" height=\"300\">\n",
    "- Which of those arts works the best? The same, there are distributions behind those arts. \n",
    "=> Find out which is the best one in the process of the actual campaign. Find the best in the fastest way, and exploit it along."
   ]
  },
  {
   "cell_type": "markdown",
   "metadata": {},
   "source": [
    "### Upper Confidence Bound (UCB)\n",
    "- Multi-armed bandit problem summary:\n",
    "<img src=\"Images/16_2_multi_armed.JPG\" height=\"300\">\n",
    "- UCB Algorithm:\n",
    "<img src=\"Images/16_2_algorithm.JPG\" height=\"300\">\n",
    "- What actually running in the background of UCB? Let's consider the expected return for the \"Slot machines\" problem above:\n",
    "<img src=\"Images/16_2_expected.JPG\" height=\"300\">\n",
    "- The horizontal lines represent for the Mean (Expected value) of each distribution of each machine.\n",
    "- But because we don't know that they will return which value, so we assume that they will return the same:\n",
    "<img src=\"Images/16_2_same.JPG\" height=\"300\">\n",
    "- The algorithm will create a confident band that includes the actual expected result:\n",
    "<img src=\"Images/16_2_confident.JPG\" height=\"300\">\n",
    "- At the beginning, we have the same expected result, with the same confident band, so we randomly choose 1 of them play (in the case of cola ads, we popup a random art). Let's choose 3 in this example:\n",
    "<img src=\"Images/16_2_first_pick.JPG\" height=\"300\">\n",
    "- Assume that user doesn't click on the ads, the expected value go down! Those real expected values still lie at fixed positions.\n",
    "- Next, choose the one with the highest expected value, so one of the 4 others to pop up. Let's choose 4:\n",
    "<img src=\"Images/16_2_second.JPG\" height=\"300\">\n",
    "- We see that, it will converge into the final expected result after each round.\n",
    "- Now D4 is highest, so we can choose this. However, we are not confident in this result, so we lower the confident bound of 4:\n",
    "<img src=\"Images/16_2_lower_bound.JPG\" height=\"300\">\n",
    "- If we choose 1, there are still some cases that the bound will go up, not down even when the expected value is below (that's why we call it random). For further steps, it can converge, however, it always has a chance to go up or down randomly.\n",
    "- Overall, the algorithm will go on, decrease, increase the bound, the expected value...\n",
    "<img src=\"Images/16_2_further.JPG\" height=\"300\">\n",
    "\n",
    "### Implementation"
   ]
  },
  {
   "cell_type": "code",
   "execution_count": 2,
   "metadata": {
    "collapsed": true
   },
   "outputs": [],
   "source": [
    "import numpy as np\n",
    "import pandas as pd\n",
    "import matplotlib.pyplot as plt\n",
    "\n",
    "%matplotlib inline"
   ]
  },
  {
   "cell_type": "code",
   "execution_count": 3,
   "metadata": {
    "collapsed": true
   },
   "outputs": [],
   "source": [
    "dataset = pd.read_csv(\"Datasets/ML_a_z/Ads_CTR_Optimisation.csv\")"
   ]
  },
  {
   "cell_type": "code",
   "execution_count": 4,
   "metadata": {
    "collapsed": false
   },
   "outputs": [
    {
     "data": {
      "text/html": [
       "<div>\n",
       "<table border=\"1\" class=\"dataframe\">\n",
       "  <thead>\n",
       "    <tr style=\"text-align: right;\">\n",
       "      <th></th>\n",
       "      <th>Ad 1</th>\n",
       "      <th>Ad 2</th>\n",
       "      <th>Ad 3</th>\n",
       "      <th>Ad 4</th>\n",
       "      <th>Ad 5</th>\n",
       "      <th>Ad 6</th>\n",
       "      <th>Ad 7</th>\n",
       "      <th>Ad 8</th>\n",
       "      <th>Ad 9</th>\n",
       "      <th>Ad 10</th>\n",
       "    </tr>\n",
       "  </thead>\n",
       "  <tbody>\n",
       "    <tr>\n",
       "      <th>0</th>\n",
       "      <td>1</td>\n",
       "      <td>0</td>\n",
       "      <td>0</td>\n",
       "      <td>0</td>\n",
       "      <td>1</td>\n",
       "      <td>0</td>\n",
       "      <td>0</td>\n",
       "      <td>0</td>\n",
       "      <td>1</td>\n",
       "      <td>0</td>\n",
       "    </tr>\n",
       "    <tr>\n",
       "      <th>1</th>\n",
       "      <td>0</td>\n",
       "      <td>0</td>\n",
       "      <td>0</td>\n",
       "      <td>0</td>\n",
       "      <td>0</td>\n",
       "      <td>0</td>\n",
       "      <td>0</td>\n",
       "      <td>0</td>\n",
       "      <td>1</td>\n",
       "      <td>0</td>\n",
       "    </tr>\n",
       "    <tr>\n",
       "      <th>2</th>\n",
       "      <td>0</td>\n",
       "      <td>0</td>\n",
       "      <td>0</td>\n",
       "      <td>0</td>\n",
       "      <td>0</td>\n",
       "      <td>0</td>\n",
       "      <td>0</td>\n",
       "      <td>0</td>\n",
       "      <td>0</td>\n",
       "      <td>0</td>\n",
       "    </tr>\n",
       "    <tr>\n",
       "      <th>3</th>\n",
       "      <td>0</td>\n",
       "      <td>1</td>\n",
       "      <td>0</td>\n",
       "      <td>0</td>\n",
       "      <td>0</td>\n",
       "      <td>0</td>\n",
       "      <td>0</td>\n",
       "      <td>1</td>\n",
       "      <td>0</td>\n",
       "      <td>0</td>\n",
       "    </tr>\n",
       "    <tr>\n",
       "      <th>4</th>\n",
       "      <td>0</td>\n",
       "      <td>0</td>\n",
       "      <td>0</td>\n",
       "      <td>0</td>\n",
       "      <td>0</td>\n",
       "      <td>0</td>\n",
       "      <td>0</td>\n",
       "      <td>0</td>\n",
       "      <td>0</td>\n",
       "      <td>0</td>\n",
       "    </tr>\n",
       "  </tbody>\n",
       "</table>\n",
       "</div>"
      ],
      "text/plain": [
       "   Ad 1  Ad 2  Ad 3  Ad 4  Ad 5  Ad 6  Ad 7  Ad 8  Ad 9  Ad 10\n",
       "0     1     0     0     0     1     0     0     0     1      0\n",
       "1     0     0     0     0     0     0     0     0     1      0\n",
       "2     0     0     0     0     0     0     0     0     0      0\n",
       "3     0     1     0     0     0     0     0     1     0      0\n",
       "4     0     0     0     0     0     0     0     0     0      0"
      ]
     },
     "execution_count": 4,
     "metadata": {},
     "output_type": "execute_result"
    }
   ],
   "source": [
    "dataset.head()"
   ]
  },
  {
   "cell_type": "code",
   "execution_count": null,
   "metadata": {
    "collapsed": true
   },
   "outputs": [],
   "source": [
    "# This one is just for testing, in reality, we dont have these records, \n",
    "# just use real time record to perform the algorithm\n",
    "# Use source code\n"
   ]
  }
 ],
 "metadata": {
  "kernelspec": {
   "display_name": "Python [Root]",
   "language": "python",
   "name": "Python [Root]"
  },
  "language_info": {
   "codemirror_mode": {
    "name": "ipython",
    "version": 2
   },
   "file_extension": ".py",
   "mimetype": "text/x-python",
   "name": "python",
   "nbconvert_exporter": "python",
   "pygments_lexer": "ipython2",
   "version": "2.7.12"
  }
 },
 "nbformat": 4,
 "nbformat_minor": 0
}
