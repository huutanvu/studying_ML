{
 "cells": [
  {
   "cell_type": "code",
   "execution_count": 1,
   "metadata": {
    "collapsed": true
   },
   "outputs": [],
   "source": [
    "import os, sys\n",
    "\n",
    "sys.path.append(os.path.abspath(\"Datasets\"))\n",
    "sys.path.append(os.path.abspath(\"Images\"))"
   ]
  },
  {
   "cell_type": "markdown",
   "metadata": {},
   "source": [
    "### Kernel Support Vector Machine\n",
    "- SVM did a very good job in the linearly separable dataset. But what happen if we have a not linearly separable dataset?\n",
    "<img src=\"Images/7_1_Problem.JPG\" height=\"450\">\n",
    "- So, we use the Kernel trick.\n",
    "\n",
    "#### A Higher-Dimensional Space\n",
    "- Mapping a non-linearly separable dataset to a higher dimension space and get a linearly separable dataset\n",
    "- 1-Dimensional Space: \n",
    "<img src=\"Images/7_2_1D.JPG\" height=\"450\">\n",
    "    - Step 1: Move everything to the left of 0 (assume that the value is 5)\n",
    "    - Step 2: Square it, and we project everything to the curve\n",
    "    - Step 3: We have the linearly separable dataset.\n",
    "<img src=\"Images/7_2_1D_solution.JPG\" height=\"450\">\n",
    "\n",
    "- 2-Dimensional space:\n",
    "    - We apply some Mapping Function to a 3-D space and then we will have a new dataset which is linearly separable.\n",
    "<img src=\"Images/7_3_2D_solution.JPG\" height=\"450\">\n",
    "    - And after classification, we project it back to the 2-D space, so we have the classifier.\n",
    "<img src=\"Images/7_3_2D_classifier.JPG\" height=\"450\">\n",
    "    - As we can see, we can simplify a complex problem to a more simple problem. However, **Mapping to a Higher Dimensional Space can be highly compute-intensive**, it requires a lot of computation.\n",
    "    - Therefore, this is not the best way to deal with it. \n",
    "    \n",
    "#### The Kernel Trick\n",
    "- **Gaussian Radial Basis Function (RBF) Kernel**:\n",
    "$$K(\\vec{x}, \\vec{l}^i) = e^-\\frac{\\lVert\\vec{x}-\\vec{l}^i \\rVert^2}{2 \\sigma^2}$$\n",
    "    - K: kernel: function of vector x (a point in the dataset)\n",
    "    - l: landmark\n",
    "<img src=\"Images/8_1_landmark.JPG\" height=\"450\">\n",
    "- Landmark is actually in the middle of the Blue plane (x-y plane). Vertical is the result (Kernel).\n",
    "- Sigma is some fix parameter\n",
    "- Look at the tip, it's right in the middle of the plane, so we project to the plane, we get the landmark (red area). Taking a new point $\\vec{x}$, we calculate the Eucledian distance from the landmark to the new point. The larger the distance, the the smaller exponential part (right hand side). Remember that, the maximum value of the Kernel is 1.\n",
    "<img src=\"Images/8_2_kernel.JPG\" height=\"450\">\n",
    "- Why do we need it? We will use it to separate the dataset to build the decision boundary.\n",
    "- First we place the landmark in the dataset.\n",
    "- Sigma will define how wide the circumference (white circle), larger sigma, larger the circuference.\n",
    "<img src=\"Images/8_3_apply_1.JPG\" height=\"450\">\n",
    "<img src=\"Images/8_3_apply_2.JPG\" height=\"450\">\n",
    "- So the problem is to find the best sigma. \n",
    "- For more complex problem, just add multiple Kernels\n",
    "<img src=\"Images/8_3_apply_3.JPG\" height=\"450\">"
   ]
  },
  {
   "cell_type": "markdown",
   "metadata": {},
   "source": [
    "### Types of Kernel Functions\n",
    "- There are multiple Kernel Functions:\n",
    "<img src=\"Images/8_4_types_1.JPG\" height=\"450\">\n",
    "For more information:\n",
    "\n",
    "http://mlkernels.readthedocs.io/en/latest/kernels.html#kernel-composition-classes"
   ]
  },
  {
   "cell_type": "code",
   "execution_count": 2,
   "metadata": {
    "collapsed": true
   },
   "outputs": [],
   "source": [
    "import numpy as np\n",
    "import pandas as pd\n",
    "import matplotlib.pyplot as plt\n",
    "\n",
    "%matplotlib inline"
   ]
  },
  {
   "cell_type": "code",
   "execution_count": 3,
   "metadata": {
    "collapsed": true
   },
   "outputs": [],
   "source": [
    "dataset = pd.read_csv(\"Datasets/ML_a_z/Social_Network_Ads.csv\")"
   ]
  },
  {
   "cell_type": "code",
   "execution_count": 4,
   "metadata": {
    "collapsed": false
   },
   "outputs": [
    {
     "data": {
      "text/html": [
       "<div>\n",
       "<table border=\"1\" class=\"dataframe\">\n",
       "  <thead>\n",
       "    <tr style=\"text-align: right;\">\n",
       "      <th></th>\n",
       "      <th>User ID</th>\n",
       "      <th>Gender</th>\n",
       "      <th>Age</th>\n",
       "      <th>EstimatedSalary</th>\n",
       "      <th>Purchased</th>\n",
       "    </tr>\n",
       "  </thead>\n",
       "  <tbody>\n",
       "    <tr>\n",
       "      <th>0</th>\n",
       "      <td>15624510</td>\n",
       "      <td>Male</td>\n",
       "      <td>19.0</td>\n",
       "      <td>19000.0</td>\n",
       "      <td>0</td>\n",
       "    </tr>\n",
       "    <tr>\n",
       "      <th>1</th>\n",
       "      <td>15810944</td>\n",
       "      <td>Male</td>\n",
       "      <td>35.0</td>\n",
       "      <td>20000.0</td>\n",
       "      <td>0</td>\n",
       "    </tr>\n",
       "    <tr>\n",
       "      <th>2</th>\n",
       "      <td>15668575</td>\n",
       "      <td>Female</td>\n",
       "      <td>26.0</td>\n",
       "      <td>43000.0</td>\n",
       "      <td>0</td>\n",
       "    </tr>\n",
       "    <tr>\n",
       "      <th>3</th>\n",
       "      <td>15603246</td>\n",
       "      <td>Female</td>\n",
       "      <td>27.0</td>\n",
       "      <td>57000.0</td>\n",
       "      <td>0</td>\n",
       "    </tr>\n",
       "    <tr>\n",
       "      <th>4</th>\n",
       "      <td>15804002</td>\n",
       "      <td>Male</td>\n",
       "      <td>19.0</td>\n",
       "      <td>76000.0</td>\n",
       "      <td>0</td>\n",
       "    </tr>\n",
       "  </tbody>\n",
       "</table>\n",
       "</div>"
      ],
      "text/plain": [
       "    User ID  Gender   Age  EstimatedSalary  Purchased\n",
       "0  15624510    Male  19.0          19000.0          0\n",
       "1  15810944    Male  35.0          20000.0          0\n",
       "2  15668575  Female  26.0          43000.0          0\n",
       "3  15603246  Female  27.0          57000.0          0\n",
       "4  15804002    Male  19.0          76000.0          0"
      ]
     },
     "execution_count": 4,
     "metadata": {},
     "output_type": "execute_result"
    }
   ],
   "source": [
    "dataset.head()"
   ]
  },
  {
   "cell_type": "code",
   "execution_count": 5,
   "metadata": {
    "collapsed": true
   },
   "outputs": [],
   "source": [
    "X = dataset.iloc[:, 2:-1].values\n",
    "Y = dataset.iloc[:, -1].values"
   ]
  },
  {
   "cell_type": "code",
   "execution_count": 6,
   "metadata": {
    "collapsed": true
   },
   "outputs": [],
   "source": [
    "# Split test and training set\n",
    "from sklearn.cross_validation import train_test_split\n",
    "X_train, X_test, y_train, y_test = train_test_split(X, Y, \n",
    "                                                   test_size=0.25,\n",
    "                                                   random_state=0)"
   ]
  },
  {
   "cell_type": "code",
   "execution_count": 7,
   "metadata": {
    "collapsed": true
   },
   "outputs": [],
   "source": [
    "# Feature scaling\n",
    "from sklearn.preprocessing import StandardScaler\n",
    "sc = StandardScaler()\n",
    "X_train = sc.fit_transform(X_train)\n",
    "X_test = sc.fit_transform(X_test)"
   ]
  },
  {
   "cell_type": "code",
   "execution_count": 13,
   "metadata": {
    "collapsed": true
   },
   "outputs": [],
   "source": [
    "# Build the classifier\n",
    "from sklearn.svm import SVC\n",
    "classifier = SVC(kernel='rbf')"
   ]
  },
  {
   "cell_type": "code",
   "execution_count": 14,
   "metadata": {
    "collapsed": false
   },
   "outputs": [
    {
     "data": {
      "text/plain": [
       "SVC(C=1.0, cache_size=200, class_weight=None, coef0=0.0,\n",
       "  decision_function_shape=None, degree=3, gamma='auto', kernel='rbf',\n",
       "  max_iter=-1, probability=False, random_state=None, shrinking=True,\n",
       "  tol=0.001, verbose=False)"
      ]
     },
     "execution_count": 14,
     "metadata": {},
     "output_type": "execute_result"
    }
   ],
   "source": [
    "classifier.fit(X_train, y_train)"
   ]
  },
  {
   "cell_type": "code",
   "execution_count": 15,
   "metadata": {
    "collapsed": true
   },
   "outputs": [],
   "source": [
    "y_pred = classifier.predict(X_test)"
   ]
  },
  {
   "cell_type": "code",
   "execution_count": 16,
   "metadata": {
    "collapsed": true
   },
   "outputs": [],
   "source": [
    "# Confusion matrix\n",
    "from sklearn.metrics import confusion_matrix\n",
    "cm = confusion_matrix(y_test, y_pred)"
   ]
  },
  {
   "cell_type": "code",
   "execution_count": 17,
   "metadata": {
    "collapsed": false
   },
   "outputs": [
    {
     "data": {
      "text/plain": [
       "array([[64,  4],\n",
       "       [ 3, 29]])"
      ]
     },
     "execution_count": 17,
     "metadata": {},
     "output_type": "execute_result"
    }
   ],
   "source": [
    "cm"
   ]
  },
  {
   "cell_type": "code",
   "execution_count": 19,
   "metadata": {
    "collapsed": false
   },
   "outputs": [
    {
     "data": {
      "image/png": "[encoded data removed]",
      "text/plain": [
       "<matplotlib.figure.Figure at 0xc330828>"
      ]
     },
     "metadata": {},
     "output_type": "display_data"
    }
   ],
   "source": [
    "# Visualization training set\n",
    "from matplotlib.colors import ListedColormap\n",
    "X_set, y_set = X_train, y_train\n",
    "X1 = X_train[:, 0]\n",
    "X2 = X_train[:, 1]\n",
    "X1, X2 = np.meshgrid(np.arange(X1.min()-1, X1.max()+1, 0.01),\n",
    "                    np.arange(X2.min()-1, X2.max()+1, 0.01))\n",
    "X_plot = np.array([X1.ravel(), X2.ravel()])\n",
    "y_plot = classifier.predict(X_plot.T).reshape(X1.shape)\n",
    "plt.contourf(X1, X2, y_plot, alpha=0.75,\n",
    "            cmap=ListedColormap(('red', 'green')))\n",
    "# Scatter points\n",
    "for i, j in enumerate(np.unique(y_set)):\n",
    "    plt.scatter(X_set[y_set==j, 0], X_set[y_set == j, 1],\n",
    "               c=ListedColormap(('red', 'green'))(i),\n",
    "                label=j)"
   ]
  },
  {
   "cell_type": "code",
   "execution_count": 20,
   "metadata": {
    "collapsed": false
   },
   "outputs": [
    {
     "data": {
      "image/png": "[encoded data removed]",
      "text/plain": [
       "<matplotlib.figure.Figure at 0xc264e10>"
      ]
     },
     "metadata": {},
     "output_type": "display_data"
    }
   ],
   "source": [
    "# Visualization test set\n",
    "from matplotlib.colors import ListedColormap\n",
    "X_set, y_set = X_test, y_test\n",
    "X1 = X_train[:, 0]\n",
    "X2 = X_train[:, 1]\n",
    "X1, X2 = np.meshgrid(np.arange(X1.min()-1, X1.max()+1, 0.01),\n",
    "                    np.arange(X2.min()-1, X2.max()+1, 0.01))\n",
    "X_plot = np.array([X1.ravel(), X2.ravel()])\n",
    "y_plot = classifier.predict(X_plot.T).reshape(X1.shape)\n",
    "plt.contourf(X1, X2, y_plot, alpha=0.75,\n",
    "            cmap=ListedColormap(('red', 'green')))\n",
    "# Scatter points\n",
    "for i, j in enumerate(np.unique(y_set)):\n",
    "    plt.scatter(X_set[y_set==j, 0], X_set[y_set == j, 1],\n",
    "               c=ListedColormap(('red', 'green'))(i),\n",
    "                label=j)"
   ]
  },
  {
   "cell_type": "code",
   "execution_count": null,
   "metadata": {
    "collapsed": true
   },
   "outputs": [],
   "source": []
  }
 ],
 "metadata": {
  "anaconda-cloud": {},
  "kernelspec": {
   "display_name": "Python [Root]",
   "language": "python",
   "name": "Python [Root]"
  },
  "language_info": {
   "codemirror_mode": {
    "name": "ipython",
    "version": 2
   },
   "file_extension": ".py",
   "mimetype": "text/x-python",
   "name": "python",
   "nbconvert_exporter": "python",
   "pygments_lexer": "ipython2",
   "version": "2.7.12"
  }
 },
 "nbformat": 4,
 "nbformat_minor": 0
}
