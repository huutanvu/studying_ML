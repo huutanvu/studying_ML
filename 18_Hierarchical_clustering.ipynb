{
 "cells": [
  {
   "cell_type": "code",
   "execution_count": 1,
   "metadata": {
    "collapsed": true
   },
   "outputs": [],
   "source": [
    "import os, sys\n",
    "\n",
    "sys.path.append(os.path.abspath(\"Datasets\"))\n",
    "sys.path.append(os.path.abspath(\"Images\"))"
   ]
  },
  {
   "cell_type": "markdown",
   "metadata": {},
   "source": [
    "### Hierachical clustering\n",
    "<img src=\"Images/14_1_HC_1.JPG\" height=\"300\">\n",
    "- There are 2 types of HC Clustering:\n",
    "    - Agglomerative (focus on this)\n",
    "    - Divisive\n",
    "#### Agglomerative HC\n",
    "<img src=\"Images/14_1_HC_2.JPG\" height=\"300\">\n",
    "- How can we define closest clusters? \n",
    "\n",
    "#### Some kinds of Distance\n",
    "<img src=\"Images/14_2_Euclidean.JPG\" height=\"300\">\n",
    "<img src=\"Images/14_3_Distance.JPG\" height=\"300\">\n",
    "- The problem of HC is to choose which distance to be chosen. It will affect your result much.\n",
    "- Distance between 2 clusters is different from between 2 points. However, it would be defined by the distance between 2 points based on some options above.\n",
    "\n",
    "- Dataset with N=6 points\n",
    "<img src=\"Images/14_4_Step_1.JPG\" height=\"300\">\n",
    "<img src=\"Images/14_4_Step_2.JPG\" height=\"300\">\n",
    "<img src=\"Images/14_4_step_3.JPG\" height=\"300\">\n",
    "<img src=\"Images/14_4_step_4.JPG\" height=\"300\">\n",
    "... and repeat until we have only 1 cluster\n",
    "<img src=\"Images/14_4_Step_3_4.JPG\" height=\"300\">\n",
    "\n",
    "- What is the purpose of this algorithm? The way HC works is that it mantains the memory of how we go to this process. The memory has a dendograms.\n",
    "\n",
    "#### How Do Dendograms work?\n",
    "- Use the chart on the left to create a dendogram on the right:\n",
    "<img src=\"Images/14_5_dendogram_1.JPG\" height=\"300\">\n",
    "- Follow the steps above for the left hand side:\n",
    "    - Step 2: P2, P3 into 1 cluster, the y axis of the dendogram is the Eucledian distance between 2 points that are formed into 1 cluster: (The distance represents the dissimilarity between the 2 points (or 2 people in a dataset for example)). The greater the distance, the greater the dissimilarity.\n",
    "    <img src=\"Images/14_5_dendogram_2.JPG\" height=\"300\">\n",
    "    - Step 3: The same but with P5, P6 \n",
    "    <img src=\"Images/14_5_dendogram_3.JPG\" height=\"300\">\n",
    "    - Step 4: \n",
    "    <img src=\"Images/14_5_dendogram_4.JPG\" height=\"300\">\n",
    "    -... and finally we have:\n",
    "    <img src=\"Images/14_5_dendogram_5.JPG\" height=\"300\">\n",
    "    \n",
    "#### How to use dendrograms?\n",
    "- Depends on the number of clusters we want to separate the dataset.\n",
    "- First we have to set up a Threshold in the Euclidean distance. If the distance is above this threshold, we reject that layer (hierarchical), it means we don't want any clusters having a dissimilarity at that threshold distance.\n",
    "- For example, we want 2 clusters:\n",
    "<img src=\"Images/14_6_threshold.JPG\" height=\"300\">\n",
    "- What the dendrogram can tell us is that, within the 2 clusters, there are no distance above the threshold\n",
    "- Actually, using the dendrogram, we can tell how many clusters to be decided by counting how many points the threshold cross the veritcal lines, i.e. 2 in the above figure.\n",
    "- Now assume that we want 4 clusters:\n",
    "<img src=\"Images/14_6_threshold_2.JPG\" height=\"300\">\n",
    "- It works the same for the 6 cluster case.\n",
    "\n",
    "#### Optimal number of clusters using Dendrograms\n",
    "- Look for the highest distance (vertical lines) in the dendrogram. \n",
    "- Look for the vertical lines that are not Crossed by any horizontal line. In the above figure, P1's vertical line is crossed by P2, P3 connection line, and same for P4, which is crossed by P5, P6 connection line.\n",
    "- Find the longest line that isn't crossed by any horizontal line. \n",
    "- The *recommended* number is a threshold that crosses that longest line.\n",
    "\n",
    "- Consider the following example, the longest line is the line that is NOT crossed by any horizontal line, so:\n",
    "<img src=\"Images/14_6_example.JPG\" height=\"300\">\n",
    "- That's why we have 3 clusters:\n",
    "<img src=\"Images/14_6_example_2.JPG\" height=\"300\">\n",
    "\n",
    "### Implementation"
   ]
  },
  {
   "cell_type": "code",
   "execution_count": 2,
   "metadata": {
    "collapsed": true
   },
   "outputs": [],
   "source": [
    "import numpy as np\n",
    "import matplotlib.pyplot as plt\n",
    "import pandas as pd\n",
    "\n",
    "%matplotlib inline"
   ]
  },
  {
   "cell_type": "code",
   "execution_count": 3,
   "metadata": {
    "collapsed": false
   },
   "outputs": [],
   "source": [
    "dataset = pd.read_csv(\"Datasets/ML_a_z/Mall_Customers.csv\")"
   ]
  },
  {
   "cell_type": "code",
   "execution_count": 4,
   "metadata": {
    "collapsed": false
   },
   "outputs": [
    {
     "data": {
      "text/html": [
       "<div>\n",
       "<table border=\"1\" class=\"dataframe\">\n",
       "  <thead>\n",
       "    <tr style=\"text-align: right;\">\n",
       "      <th></th>\n",
       "      <th>CustomerID</th>\n",
       "      <th>Genre</th>\n",
       "      <th>Age</th>\n",
       "      <th>Annual Income (k$)</th>\n",
       "      <th>Spending Score (1-100)</th>\n",
       "    </tr>\n",
       "  </thead>\n",
       "  <tbody>\n",
       "    <tr>\n",
       "      <th>0</th>\n",
       "      <td>1</td>\n",
       "      <td>Male</td>\n",
       "      <td>19</td>\n",
       "      <td>15</td>\n",
       "      <td>39</td>\n",
       "    </tr>\n",
       "    <tr>\n",
       "      <th>1</th>\n",
       "      <td>2</td>\n",
       "      <td>Male</td>\n",
       "      <td>21</td>\n",
       "      <td>15</td>\n",
       "      <td>81</td>\n",
       "    </tr>\n",
       "    <tr>\n",
       "      <th>2</th>\n",
       "      <td>3</td>\n",
       "      <td>Female</td>\n",
       "      <td>20</td>\n",
       "      <td>16</td>\n",
       "      <td>6</td>\n",
       "    </tr>\n",
       "    <tr>\n",
       "      <th>3</th>\n",
       "      <td>4</td>\n",
       "      <td>Female</td>\n",
       "      <td>23</td>\n",
       "      <td>16</td>\n",
       "      <td>77</td>\n",
       "    </tr>\n",
       "    <tr>\n",
       "      <th>4</th>\n",
       "      <td>5</td>\n",
       "      <td>Female</td>\n",
       "      <td>31</td>\n",
       "      <td>17</td>\n",
       "      <td>40</td>\n",
       "    </tr>\n",
       "  </tbody>\n",
       "</table>\n",
       "</div>"
      ],
      "text/plain": [
       "   CustomerID   Genre  Age  Annual Income (k$)  Spending Score (1-100)\n",
       "0           1    Male   19                  15                      39\n",
       "1           2    Male   21                  15                      81\n",
       "2           3  Female   20                  16                       6\n",
       "3           4  Female   23                  16                      77\n",
       "4           5  Female   31                  17                      40"
      ]
     },
     "execution_count": 4,
     "metadata": {},
     "output_type": "execute_result"
    }
   ],
   "source": [
    "dataset.head()"
   ]
  },
  {
   "cell_type": "code",
   "execution_count": 11,
   "metadata": {
    "collapsed": false
   },
   "outputs": [],
   "source": [
    "X = dataset.iloc[:, 3:].values"
   ]
  },
  {
   "cell_type": "code",
   "execution_count": 12,
   "metadata": {
    "collapsed": true
   },
   "outputs": [],
   "source": [
    "# Using the dendrogram to find the optimal number of clusters\n",
    "import scipy.cluster.hierarchy as sch"
   ]
  },
  {
   "cell_type": "code",
   "execution_count": 13,
   "metadata": {
    "collapsed": false
   },
   "outputs": [
    {
     "data": {
      "image/png": "[encoded data removed]",
      "text/plain": [
       "<matplotlib.figure.Figure at 0x6a07cf8>"
      ]
     },
     "metadata": {},
     "output_type": "display_data"
    }
   ],
   "source": [
    "dendrogram = sch.dendrogram(sch.linkage(X, method='ward'))"
   ]
  },
  {
   "cell_type": "code",
   "execution_count": 14,
   "metadata": {
    "collapsed": false
   },
   "outputs": [],
   "source": [
    "# As in the above figure, we see that the lognest is the part of the Blue \n",
    "# line between the green and red horizontal lines\n",
    "# So we choose the number of clusters to be 5\n"
   ]
  },
  {
   "cell_type": "code",
   "execution_count": 21,
   "metadata": {
    "collapsed": true
   },
   "outputs": [],
   "source": [
    "# Fit the HC\n",
    "from sklearn.cluster.hierarchical import AgglomerativeClustering\n",
    "classifier = AgglomerativeClustering(n_clusters=5, affinity='euclidean',\n",
    "                                    linkage='ward')"
   ]
  },
  {
   "cell_type": "code",
   "execution_count": 22,
   "metadata": {
    "collapsed": true
   },
   "outputs": [],
   "source": [
    "y_pred = classifier.fit_predict(X)"
   ]
  },
  {
   "cell_type": "code",
   "execution_count": 29,
   "metadata": {
    "collapsed": false
   },
   "outputs": [
    {
     "data": {
      "text/plain": [
       "<matplotlib.legend.Legend at 0xa470828>"
      ]
     },
     "execution_count": 29,
     "metadata": {},
     "output_type": "execute_result"
    },
    {
     "data": {
      "image/png": "[encoded data removed]",
      "text/plain": [
       "<matplotlib.figure.Figure at 0xd06f128>"
      ]
     },
     "metadata": {},
     "output_type": "display_data"
    }
   ],
   "source": [
    "color = ['red', 'green', 'blue', 'cyan', 'magenta']\n",
    "for i in range(0, 5):\n",
    "    plt.scatter(X[y_pred==i, 0], X[y_pred==i, 1], c=color[i],\n",
    "               label=i)\n",
    "plt.xlabel(\"Annual Income\")\n",
    "plt.ylabel(\"Spending Score(1- 100)\")\n",
    "plt.legend()"
   ]
  },
  {
   "cell_type": "markdown",
   "metadata": {},
   "source": [
    "#### Understanding the result (Analyze)\n",
    "- Group 0: (red) They have high income, and come often to the mall, but they don't spend much money in the Mall.\n",
    "- Group 1: (green) in the middle, average income, average spending\n",
    "- Group 2: (blue) High income, high spending score\n",
    "- Group 3: (cyan) Low income, but high spending score\n",
    "- Group 4: (magenta) Low income, low spending score."
   ]
  },
  {
   "cell_type": "code",
   "execution_count": null,
   "metadata": {
    "collapsed": true
   },
   "outputs": [],
   "source": []
  }
 ],
 "metadata": {
  "anaconda-cloud": {},
  "kernelspec": {
   "display_name": "Python [Root]",
   "language": "python",
   "name": "Python [Root]"
  },
  "language_info": {
   "codemirror_mode": {
    "name": "ipython",
    "version": 2
   },
   "file_extension": ".py",
   "mimetype": "text/x-python",
   "name": "python",
   "nbconvert_exporter": "python",
   "pygments_lexer": "ipython2",
   "version": "2.7.12"
  }
 },
 "nbformat": 4,
 "nbformat_minor": 0
}
