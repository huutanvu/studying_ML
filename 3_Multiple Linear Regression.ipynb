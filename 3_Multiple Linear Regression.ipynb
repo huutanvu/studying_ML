{
 "cells": [
  {
   "cell_type": "code",
   "execution_count": 1,
   "metadata": {
    "collapsed": false
   },
   "outputs": [],
   "source": [
    "import os, sys\n",
    "\n",
    "sys.path.append(os.path.abspath(\"Datasets\"))\n",
    "sys.path.append(os.path.abspath(\"Images\"))"
   ]
  },
  {
   "cell_type": "markdown",
   "metadata": {},
   "source": [
    "### Multiple Linear Regression model:\n",
    "$$ y = b_0 + b_1*x_1 + b_2*x_2 + ... + b_n*x_n$$\n",
    "\n",
    "<img src='Images/3_1_assumptions.JPG'></img>\n",
    "\n",
    "- Before building the model, we need to check that those assumptions are true\n",
    "- **linear**: linear regression needs the *relationship* between the independent and dependent variables to be linear (x, y). Outliers should also be checked since linear regression is sensitive to outlier effects.\n",
    "- **Homoscedasticity**: error terms along the regression are equal (variance is unchanged). If the data is heteroscedastic, the scatter plot looks like the following example:\n",
    "<img src='Images/3_2_homoscedasticity.JPG'><img src='Images/3_2_homoscedasticity_2.JPG'>\n",
    "- **Multivariate normality**: all variables to be multivariate normal. All variables' distribution are Gaussian\n",
    "- **Independence of errors**: no correlation between consecutive errors in the case of time series data\n",
    "- **lack of multicollinearity**: two or more independent variables are not correlated, it means not any two of them is a linear combination of the other.\n",
    "\n",
    "### Dummy variables\n",
    "- Should only include K-1 column for K values of categorical data  (to avoid dummy variable trap)\n",
    "<img src=\"Images/3_3_dummy.JPG\">\n",
    "- As the image above, if $D_1=0$, it means the \"California\"'s coefficient is included in $b_0$ => $b_4$ is the difference between \"New York\" and \"California\"\n",
    "\n",
    "### Dummy Variable Trap\n",
    "- We should not include both at the same time:\n",
    "<img src=\"Images/3_3_dummy_trap.JPG\">\n",
    "- We have $D_2 = 1 - D_1$ always, so we will always have collinearity. (California's column is linear dependent with New York's column)\n",
    "\n",
    "$=>$ **Always omit one dummy variable**"
   ]
  },
  {
   "cell_type": "markdown",
   "metadata": {},
   "source": [
    "## Step-by-step building a model\n",
    "- There are too many independent variables, so we need to choose which one to keep, which one to throw out\n",
    "<img src='Images/3_4_model_1.JPG'>\n",
    "- Reasons:\n",
    "    - If we throw in a lot of variables, it's not a reliable model anymore\n",
    "    - Too many variables to be explained, you mess up yourself\n",
    "#### Methods of building models:\n",
    "<img src='Images/3_4_model_2.JPG'>\n",
    "- Stepwise regression: 2 or 3 or 4, sometimes for just 4\n",
    "\n",
    "##### All-in: All variables have to be included\n",
    "- Having prior knowledge; OR\n",
    "- Have to; OR\n",
    "- Preparing for Backward Elimination\n",
    "\n",
    "##### Backward Elimination: \n",
    "<img src='Images/3_4_backward_elimination_2.JPG'>\n",
    "<img src='Images/3_4_backward_elimination_1.JPG'>\n",
    "- After step 5, goes back to step 3. If P < SL, stop, the model is ready\n",
    "- P <SL: the variable is not significant anymore\n",
    "\n",
    "##### Forward Selection:\n",
    "<img src='Images/3_5_forward_selection_1.JPG'>\n",
    "<img src='Images/3_5_forward_selection_2.JPG'>\n",
    "\n",
    "##### Bidirectional Elimination:\n",
    "<img src='Images/3_6_bidirectional.JPG'>\n",
    "<img src='Images/3_6_bidirectional_2.JPG'>\n",
    "\n",
    "##### All Possbile Models:\n",
    "- Resources consume\n",
    "<img src='Images/3_7_all.JPG'>"
   ]
  },
  {
   "cell_type": "code",
   "execution_count": null,
   "metadata": {
    "collapsed": true
   },
   "outputs": [],
   "source": []
  }
 ],
 "metadata": {
  "kernelspec": {
   "display_name": "Python [Root]",
   "language": "python",
   "name": "Python [Root]"
  },
  "language_info": {
   "codemirror_mode": {
    "name": "ipython",
    "version": 2
   },
   "file_extension": ".py",
   "mimetype": "text/x-python",
   "name": "python",
   "nbconvert_exporter": "python",
   "pygments_lexer": "ipython2",
   "version": "2.7.12"
  }
 },
 "nbformat": 4,
 "nbformat_minor": 0
}
