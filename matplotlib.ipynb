{
 "cells": [
  {
   "cell_type": "code",
   "execution_count": 8,
   "metadata": {
    "collapsed": true
   },
   "outputs": [],
   "source": [
    "import matplotlib as mpl\n",
    "import matplotlib.pyplot as plt\n",
    "\n",
    "import numpy as np\n",
    "\n",
    "%matplotlib inline"
   ]
  },
  {
   "cell_type": "code",
   "execution_count": 19,
   "metadata": {
    "collapsed": true
   },
   "outputs": [],
   "source": [
    "import sys\n",
    "import os\n",
    "\n",
    "sys.path.append(os.path.abspath(\"Datasets\"))"
   ]
  },
  {
   "cell_type": "code",
   "execution_count": 9,
   "metadata": {
    "collapsed": true
   },
   "outputs": [],
   "source": [
    "x = np.linspace(0, 10, 10)"
   ]
  },
  {
   "cell_type": "code",
   "execution_count": 10,
   "metadata": {
    "collapsed": false
   },
   "outputs": [
    {
     "data": {
      "text/plain": [
       "array([  0.        ,   1.11111111,   2.22222222,   3.33333333,\n",
       "         4.44444444,   5.55555556,   6.66666667,   7.77777778,\n",
       "         8.88888889,  10.        ])"
      ]
     },
     "execution_count": 10,
     "metadata": {},
     "output_type": "execute_result"
    }
   ],
   "source": [
    "x"
   ]
  },
  {
   "cell_type": "code",
   "execution_count": 11,
   "metadata": {
    "collapsed": true
   },
   "outputs": [],
   "source": [
    "y = np.sin(x)"
   ]
  },
  {
   "cell_type": "code",
   "execution_count": 14,
   "metadata": {
    "collapsed": false
   },
   "outputs": [
    {
     "data": {
      "text/plain": [
       "[<matplotlib.lines.Line2D at 0x8511c50>]"
      ]
     },
     "execution_count": 14,
     "metadata": {},
     "output_type": "execute_result"
    },
    {
     "data": {
      "image/png": "[encoded data removed]",
      "text/plain": [
       "<matplotlib.figure.Figure at 0x839f2e8>"
      ]
     },
     "metadata": {},
     "output_type": "display_data"
    }
   ],
   "source": [
    "plt.xlabel(\"Time\")\n",
    "plt.ylabel(\"Some function of time\")\n",
    "plt.title(\"Test\")\n",
    "plt.plot(x, y)"
   ]
  },
  {
   "cell_type": "code",
   "execution_count": 15,
   "metadata": {
    "collapsed": true
   },
   "outputs": [],
   "source": [
    "x = np.linspace(0, 10, 100)\n",
    "y = np.sin(x)"
   ]
  },
  {
   "cell_type": "code",
   "execution_count": 17,
   "metadata": {
    "collapsed": false
   },
   "outputs": [
    {
     "data": {
      "text/plain": [
       "[<matplotlib.lines.Line2D at 0x89b47f0>]"
      ]
     },
     "execution_count": 17,
     "metadata": {},
     "output_type": "execute_result"
    },
    {
     "data": {
      "image/png": "[encoded data removed]",
      "text/plain": [
       "<matplotlib.figure.Figure at 0x8511cf8>"
      ]
     },
     "metadata": {},
     "output_type": "display_data"
    }
   ],
   "source": [
    "plt.xlabel(\"Time\")\n",
    "plt.ylabel(\"Some function of time\")\n",
    "plt.title(\"Test\")\n",
    "plt.plot(x, y)"
   ]
  },
  {
   "cell_type": "code",
   "execution_count": 18,
   "metadata": {
    "collapsed": true
   },
   "outputs": [],
   "source": [
    "import pandas as pd"
   ]
  },
  {
   "cell_type": "code",
   "execution_count": 20,
   "metadata": {
    "collapsed": true
   },
   "outputs": [],
   "source": [
    "A = pd.read_csv('Datasets/data_1d.csv', header=None).as_matrix()"
   ]
  },
  {
   "cell_type": "code",
   "execution_count": 21,
   "metadata": {
    "collapsed": false
   },
   "outputs": [
    {
     "data": {
      "text/plain": [
       "array([[  95.72416241,  197.17963609],\n",
       "       [  35.75761893,   67.59066954],\n",
       "       [  28.81684742,   60.85413282],\n",
       "       [  99.95848131,  196.90739698],\n",
       "       [  66.80974831,  125.31112852],\n",
       "       [  58.21569264,  115.78578459],\n",
       "       [  53.82107634,  110.76277271],\n",
       "       [  81.29608217,  157.98528569],\n",
       "       [  80.64869706,  159.61941373],\n",
       "       [  78.25281369,  149.00386554],\n",
       "       [  16.86348369,   31.46759088],\n",
       "       [  90.79914756,  184.18521966],\n",
       "       [  53.31273701,  103.22061016],\n",
       "       [  71.61878902,  143.27181836],\n",
       "       [  18.41059178,   46.73641801],\n",
       "       [  57.12434676,  107.1237942 ],\n",
       "       [  81.13468392,  168.30937401],\n",
       "       [  82.01525542,  166.82994267],\n",
       "       [  36.92490825,   70.50145559],\n",
       "       [  44.58712604,   96.86937025],\n",
       "       [  26.66235446,   50.37323584],\n",
       "       [  74.06505712,  145.51917071],\n",
       "       [  17.74057673,   46.55187461],\n",
       "       [   6.81974382,   13.24378631],\n",
       "       [  26.31736009,   62.5006665 ],\n",
       "       [  82.80411905,  159.91664958],\n",
       "       [  39.44653696,   77.98420415],\n",
       "       [  76.72812059,  147.26918314],\n",
       "       [  42.21585614,   83.6452954 ],\n",
       "       [  94.35857584,  191.95607269],\n",
       "       [  42.14178513,   91.73273416],\n",
       "       [   3.21124861,    8.25141677],\n",
       "       [   6.8856734 ,   16.09638942],\n",
       "       [  13.87577216,   33.35444214],\n",
       "       [  63.29740364,  131.50574553],\n",
       "       [  60.49251936,  128.69884306],\n",
       "       [  79.60728523,  160.3103805 ],\n",
       "       [  83.44436306,  160.60324574],\n",
       "       [  54.89207011,  104.40029316],\n",
       "       [  62.04594417,  126.96945605],\n",
       "       [  66.65375794,  124.51916761],\n",
       "       [  61.31981316,  125.21741443],\n",
       "       [  47.31955299,   98.71948438],\n",
       "       [  81.1509876 ,  166.43245548],\n",
       "       [  91.02151367,  179.23687261],\n",
       "       [  16.84346201,   33.77723374],\n",
       "       [  76.50643657,  161.37296513],\n",
       "       [  71.86570468,  138.575401  ],\n",
       "       [   9.84808948,   17.90332828],\n",
       "       [  35.78971241,   74.10859171],\n",
       "       [  35.888692  ,   74.82132297],\n",
       "       [  90.82944871,  179.24154705],\n",
       "       [   7.26207284,    6.43437238],\n",
       "       [  35.35928817,   78.08635679],\n",
       "       [  79.07925376,  154.59178976],\n",
       "       [  21.55345833,   50.0307539 ],\n",
       "       [  79.47642778,  165.44196619],\n",
       "       [  48.76796664,  110.89728797],\n",
       "       [  54.79386201,  114.69188511],\n",
       "       [  87.50352552,  186.74420631],\n",
       "       [  38.94913047,   70.69722298],\n",
       "       [   9.39561282,   19.17903005],\n",
       "       [  11.12118682,   27.02295992],\n",
       "       [  46.13555826,   87.29244922],\n",
       "       [  85.69757358,  167.92461412],\n",
       "       [  50.1102964 ,   96.02054844],\n",
       "       [  11.07366673,   24.94632465],\n",
       "       [  22.22813085,   54.00414588],\n",
       "       [  67.5539548 ,  133.16525443],\n",
       "       [  12.78718566,   28.00622322],\n",
       "       [  46.96549084,  100.60558947],\n",
       "       [   4.84854065,   13.8572726 ],\n",
       "       [  40.53733193,   82.59066294],\n",
       "       [  26.33046127,   50.23180391],\n",
       "       [  38.88472635,   79.48177242],\n",
       "       [  93.83826653,  191.32431784],\n",
       "       [  60.08165997,  120.49511544],\n",
       "       [  50.11396522,  111.35232289],\n",
       "       [  17.71868528,   44.93760649],\n",
       "       [  85.07303114,  172.13320308],\n",
       "       [  41.32150973,   84.889236  ],\n",
       "       [  35.45154709,   69.91899124],\n",
       "       [  74.02102554,  149.77864633],\n",
       "       [  90.5197211 ,  187.59390974],\n",
       "       [  34.54059704,   66.32685895],\n",
       "       [  94.56166213,  189.14496411],\n",
       "       [  52.95626785,  103.44683588],\n",
       "       [  80.10643641,  158.52943007],\n",
       "       [  49.82275758,   98.69883963],\n",
       "       [  61.78172531,  122.64739506],\n",
       "       [  60.28610836,  124.76334632],\n",
       "       [  77.32069019,  155.67749312],\n",
       "       [  15.64635875,   35.41060825],\n",
       "       [  71.54061834,  151.32345871],\n",
       "       [  62.45239811,  129.43395879],\n",
       "       [  79.05983237,  163.09690261],\n",
       "       [  72.19769344,  142.89852264],\n",
       "       [  71.41775342,  148.09420854],\n",
       "       [  31.00882008,   63.79687625],\n",
       "       [  40.32528222,   86.72368533]])"
      ]
     },
     "execution_count": 21,
     "metadata": {},
     "output_type": "execute_result"
    }
   ],
   "source": [
    "A"
   ]
  },
  {
   "cell_type": "code",
   "execution_count": 22,
   "metadata": {
    "collapsed": true
   },
   "outputs": [],
   "source": [
    "x = A[:, 0]"
   ]
  },
  {
   "cell_type": "code",
   "execution_count": 23,
   "metadata": {
    "collapsed": true
   },
   "outputs": [],
   "source": [
    "y = A[:, 1]"
   ]
  },
  {
   "cell_type": "code",
   "execution_count": 24,
   "metadata": {
    "collapsed": false
   },
   "outputs": [
    {
     "data": {
      "text/plain": [
       "<matplotlib.collections.PathCollection at 0xa21c668>"
      ]
     },
     "execution_count": 24,
     "metadata": {},
     "output_type": "execute_result"
    },
    {
     "data": {
      "image/png": "[encoded data removed]",
      "text/plain": [
       "<matplotlib.figure.Figure at 0xa1037b8>"
      ]
     },
     "metadata": {},
     "output_type": "display_data"
    }
   ],
   "source": [
    "plt.scatter(x, y)"
   ]
  },
  {
   "cell_type": "code",
   "execution_count": 25,
   "metadata": {
    "collapsed": true
   },
   "outputs": [],
   "source": [
    "x_line = np.linspace(0, 100, 100)"
   ]
  },
  {
   "cell_type": "code",
   "execution_count": 26,
   "metadata": {
    "collapsed": true
   },
   "outputs": [],
   "source": [
    "y_line = 2*x_line + 1"
   ]
  },
  {
   "cell_type": "code",
   "execution_count": 28,
   "metadata": {
    "collapsed": false
   },
   "outputs": [
    {
     "data": {
      "text/plain": [
       "[<matplotlib.lines.Line2D at 0xa3b4e48>]"
      ]
     },
     "execution_count": 28,
     "metadata": {},
     "output_type": "execute_result"
    },
    {
     "data": {
      "image/png": "[encoded data removed]",
      "text/plain": [
       "<matplotlib.figure.Figure at 0xa3b4d68>"
      ]
     },
     "metadata": {},
     "output_type": "display_data"
    }
   ],
   "source": [
    "plt.scatter(x, y)\n",
    "plt.plot(x_line, y_line)"
   ]
  },
  {
   "cell_type": "code",
   "execution_count": 29,
   "metadata": {
    "collapsed": false
   },
   "outputs": [
    {
     "data": {
      "text/plain": [
       "(array([ 10.,   9.,   5.,  13.,  10.,  10.,   8.,  16.,  10.,   9.]),\n",
       " array([  3.21124861,  12.88597188,  22.56069515,  32.23541842,\n",
       "         41.91014169,  51.58486496,  61.25958823,  70.9343115 ,\n",
       "         80.60903477,  90.28375804,  99.95848131]),\n",
       " <a list of 10 Patch objects>)"
      ]
     },
     "execution_count": 29,
     "metadata": {},
     "output_type": "execute_result"
    },
    {
     "data": {
      "image/png": "[encoded data removed]",
      "text/plain": [
       "<matplotlib.figure.Figure at 0xb654cc0>"
      ]
     },
     "metadata": {},
     "output_type": "display_data"
    }
   ],
   "source": [
    "plt.hist(x)"
   ]
  },
  {
   "cell_type": "code",
   "execution_count": 30,
   "metadata": {
    "collapsed": true
   },
   "outputs": [],
   "source": [
    "R = np.random.random(10000)"
   ]
  },
  {
   "cell_type": "code",
   "execution_count": 31,
   "metadata": {
    "collapsed": false
   },
   "outputs": [
    {
     "data": {
      "text/plain": [
       "(array([ 1016.,   996.,   959.,  1008.,  1095.,   976.,   964.,   993.,\n",
       "          956.,  1037.]),\n",
       " array([  6.76798811e-05,   1.00055942e-01,   2.00044204e-01,\n",
       "          3.00032466e-01,   4.00020728e-01,   5.00008990e-01,\n",
       "          5.99997252e-01,   6.99985515e-01,   7.99973777e-01,\n",
       "          8.99962039e-01,   9.99950301e-01]),\n",
       " <a list of 10 Patch objects>)"
      ]
     },
     "execution_count": 31,
     "metadata": {},
     "output_type": "execute_result"
    },
    {
     "data": {
      "image/png": "[encoded data removed]",
      "text/plain": [
       "<matplotlib.figure.Figure at 0xb98d668>"
      ]
     },
     "metadata": {},
     "output_type": "display_data"
    }
   ],
   "source": [
    "plt.hist(R) # Look uniform (because of random.random())"
   ]
  },
  {
   "cell_type": "code",
   "execution_count": 32,
   "metadata": {
    "collapsed": false
   },
   "outputs": [
    {
     "data": {
      "text/plain": [
       "(array([ 492.,  524.,  488.,  508.,  490.,  469.,  512.,  496.,  558.,\n",
       "         537.,  481.,  495.,  452.,  512.,  504.,  489.,  451.,  505.,\n",
       "         502.,  535.]),\n",
       " array([  6.76798811e-05,   5.00618109e-02,   1.00055942e-01,\n",
       "          1.50050073e-01,   2.00044204e-01,   2.50038335e-01,\n",
       "          3.00032466e-01,   3.50026597e-01,   4.00020728e-01,\n",
       "          4.50014859e-01,   5.00008990e-01,   5.50003121e-01,\n",
       "          5.99997252e-01,   6.49991384e-01,   6.99985515e-01,\n",
       "          7.49979646e-01,   7.99973777e-01,   8.49967908e-01,\n",
       "          8.99962039e-01,   9.49956170e-01,   9.99950301e-01]),\n",
       " <a list of 20 Patch objects>)"
      ]
     },
     "execution_count": 32,
     "metadata": {},
     "output_type": "execute_result"
    },
    {
     "data": {
      "image/png": "[encoded data removed]",
      "text/plain": [
       "<matplotlib.figure.Figure at 0xb98d940>"
      ]
     },
     "metadata": {},
     "output_type": "display_data"
    }
   ],
   "source": [
    "plt.hist(R, bins=20)"
   ]
  },
  {
   "cell_type": "code",
   "execution_count": null,
   "metadata": {
    "collapsed": true
   },
   "outputs": [],
   "source": []
  }
 ],
 "metadata": {
  "kernelspec": {
   "display_name": "Python [Root]",
   "language": "python",
   "name": "Python [Root]"
  },
  "language_info": {
   "codemirror_mode": {
    "name": "ipython",
    "version": 2
   },
   "file_extension": ".py",
   "mimetype": "text/x-python",
   "name": "python",
   "nbconvert_exporter": "python",
   "pygments_lexer": "ipython2",
   "version": "2.7.12"
  }
 },
 "nbformat": 4,
 "nbformat_minor": 0
}
